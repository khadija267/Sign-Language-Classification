{
  "nbformat": 4,
  "nbformat_minor": 0,
  "metadata": {
    "colab": {
      "name": "VGG16.ipynb",
      "provenance": [],
      "authorship_tag": "ABX9TyOyhbyb9S9lEBjV26QpyQK/",
      "include_colab_link": true
    },
    "kernelspec": {
      "display_name": "Python 3",
      "name": "python3"
    },
    "language_info": {
      "name": "python"
    }
  },
  "cells": [
    {
      "cell_type": "markdown",
      "metadata": {
        "id": "view-in-github",
        "colab_type": "text"
      },
      "source": [
        "<a href=\"https://colab.research.google.com/github/khadija267/Sign-Language-Classification/blob/main/VGG16.ipynb\" target=\"_parent\"><img src=\"https://colab.research.google.com/assets/colab-badge.svg\" alt=\"Open In Colab\"/></a>"
      ]
    },
    {
      "cell_type": "markdown",
      "metadata": {
        "id": "VDDguPiLJxZn"
      },
      "source": [
        "# Load Data"
      ]
    },
    {
      "cell_type": "code",
      "metadata": {
        "colab": {
          "base_uri": "https://localhost:8080/"
        },
        "id": "D-ca-JQxJzUA",
        "outputId": "2d3e0929-7eed-4b70-961b-8c7bbce6ff62"
      },
      "source": [
        "# import important libraries\n",
        "import PIL\n",
        "import os\n",
        "from PIL import Image\n",
        "import os\n",
        "import skimage.io as skio\n",
        "from skimage.transform import resize\n",
        "import numpy as np\n",
        "import pandas as pd\n",
        "# import colab drive to access my drive and the data uploaded there.\n",
        "from google.colab import drive\n",
        "drive.mount('/content/drive')\n",
        "# get the location of the data\n",
        "location = r'/content/drive/MyDrive/CVProjectDataset'\n",
        "# make array of the classes of the data\n",
        "classes=['Call me','Dislike','Goodjob','Good luck','I love you','OK','Peace','Power','Talk to the hand','You']\n",
        "# make a list of the folders that contain the data\n",
        "folders=['Train','Test','Validation']\n",
        "# make empty lists to append to them each image\n",
        "X_train=[]\n",
        "X_test=[]\n",
        "X_valid=[]\n",
        "y_train=[]\n",
        "y_test=[]\n",
        "y_valid=[]\n",
        "train_df=[]\n",
        "# for looping the folders and making a train, validation, and test images arrays\n",
        "for ind,it in enumerate(classes):\n",
        "    for ind_1 , it_1 in enumerate(folders):\n",
        "        for filex in os.listdir(location+\"/\"+it+\"/\"+it_1):\n",
        "            if it_1=='Train':\n",
        "                f_img = location+\"/\"+it+\"/\"+it_1+\"/\"+filex\n",
        "                img = skio.imread(f_img)\n",
        "                img = resize(img,(40,32))\n",
        "                X_train.append(img)\n",
        "                y_train.append(ind)\n",
        "                train_df.append(img.flatten())\n",
        "\n",
        "            elif it_1=='Test':\n",
        "                f_img =location+\"/\"+it+\"/\"+it_1+\"/\"+filex\n",
        "                img = skio.imread(f_img)\n",
        "                img = resize(img,(40,32))\n",
        "                X_test.append(img)\n",
        "                y_test.append(ind)\n",
        "\n",
        "\n",
        "            elif it_1=='Validation':\n",
        "                f_img = location+\"/\"+it+\"/\"+it_1+\"/\"+filex\n",
        "                img = skio.imread(f_img)\n",
        "                img = resize(img,(40,32))\n",
        "                X_valid.append(img)\n",
        "                y_valid.append(ind)\n",
        "\n",
        "            else:\n",
        "                print(\"The destination file does not exist!\")\n",
        "\n",
        "\n",
        "# make a df for the data if needed in the further steps\n",
        "df=pd.DataFrame(train_df)\n",
        "df['Class']=y_train"
      ],
      "execution_count": null,
      "outputs": [
        {
          "name": "stdout",
          "output_type": "stream",
          "text": [
            "Mounted at /content/drive\n"
          ]
        }
      ]
    },
    {
      "cell_type": "markdown",
      "metadata": {
        "id": "7xM_bz-qEssg"
      },
      "source": [
        "Make sure of the data size"
      ]
    },
    {
      "cell_type": "code",
      "metadata": {
        "colab": {
          "base_uri": "https://localhost:8080/"
        },
        "id": "iuDYFJnhVqf5",
        "outputId": "7a46cbde-868e-4e75-f3e5-72d1a8d9bc14"
      },
      "source": [
        "len(X_train[0][0])"
      ],
      "execution_count": null,
      "outputs": [
        {
          "data": {
            "text/plain": [
              "32"
            ]
          },
          "execution_count": 3,
          "metadata": {},
          "output_type": "execute_result"
        }
      ]
    },
    {
      "cell_type": "code",
      "metadata": {
        "colab": {
          "base_uri": "https://localhost:8080/"
        },
        "id": "qvxNutABkdgl",
        "outputId": "9ebd42be-a91a-432b-dccf-1b2f891d893e"
      },
      "source": [
        "len(X_train)"
      ],
      "execution_count": null,
      "outputs": [
        {
          "data": {
            "text/plain": [
              "327"
            ]
          },
          "execution_count": 4,
          "metadata": {},
          "output_type": "execute_result"
        }
      ]
    },
    {
      "cell_type": "code",
      "metadata": {
        "colab": {
          "base_uri": "https://localhost:8080/"
        },
        "id": "rB5s9DY5Hd6l",
        "outputId": "3066267e-45ae-42c8-cac6-bb2bd25729a2"
      },
      "source": [
        "len(X_test)"
      ],
      "execution_count": null,
      "outputs": [
        {
          "data": {
            "text/plain": [
              "100"
            ]
          },
          "execution_count": 5,
          "metadata": {},
          "output_type": "execute_result"
        }
      ]
    },
    {
      "cell_type": "code",
      "metadata": {
        "colab": {
          "base_uri": "https://localhost:8080/"
        },
        "id": "qkGFtnAtHgOe",
        "outputId": "226250d8-b5c9-40ef-a29b-5dc0132e7e71"
      },
      "source": [
        "len(X_valid)"
      ],
      "execution_count": null,
      "outputs": [
        {
          "data": {
            "text/plain": [
              "100"
            ]
          },
          "execution_count": 6,
          "metadata": {},
          "output_type": "execute_result"
        }
      ]
    },
    {
      "cell_type": "code",
      "metadata": {
        "colab": {
          "base_uri": "https://localhost:8080/"
        },
        "id": "AHXitG45VuPO",
        "outputId": "cc5239cc-6ba5-4eed-a214-f5fd2cd22234"
      },
      "source": [
        "len(y_train)"
      ],
      "execution_count": null,
      "outputs": [
        {
          "data": {
            "text/plain": [
              "327"
            ]
          },
          "execution_count": 7,
          "metadata": {},
          "output_type": "execute_result"
        }
      ]
    },
    {
      "cell_type": "markdown",
      "metadata": {
        "id": "Ak235guBEwOW"
      },
      "source": [
        "convert the list into a numpy array that is used in further modeling"
      ]
    },
    {
      "cell_type": "code",
      "metadata": {
        "id": "ExrY5RNJlydv"
      },
      "source": [
        "y_train = np.asarray(y_train)\n",
        "y_test = np.asarray(y_test)\n",
        "X_train = np.asarray(X_train)\n",
        "X_test = np.asarray(X_test) \n"
      ],
      "execution_count": null,
      "outputs": []
    },
    {
      "cell_type": "markdown",
      "metadata": {
        "id": "CI4eXiUrJk1B"
      },
      "source": [
        "# VGG16 Model Baseline"
      ]
    },
    {
      "cell_type": "code",
      "metadata": {
        "colab": {
          "base_uri": "https://localhost:8080/"
        },
        "id": "LIX19fqhJnCa",
        "outputId": "4494f4ff-7949-422a-c529-e766e42e436c"
      },
      "source": [
        "# import keras from tensorflow as needed to import the vgg16 model\n",
        "from tensorflow.keras.applications.vgg16 import VGG16\n",
        "from tensorflow.keras.applications.vgg16 import preprocess_input\n",
        "from keras.models import Model\n",
        "from keras.layers import Dense, Activation, Flatten\n",
        "# load model without classifier layers\n",
        "model = VGG16(include_top=False, input_shape=X_train[0].shape)\n",
        "# add new classifier layers\n",
        "flat1 = Flatten()(model.layers[-1].output)\n",
        "class1 = Dense(1024, activation='relu')(flat1)\n",
        "output = Dense(10, activation='softmax')(class1)\n",
        "# define new model\n",
        "model = Model(inputs=model.inputs, outputs=output)\n",
        "# summarize\n",
        "model.summary()"
      ],
      "execution_count": null,
      "outputs": [
        {
          "name": "stdout",
          "output_type": "stream",
          "text": [
            "Downloading data from https://storage.googleapis.com/tensorflow/keras-applications/vgg16/vgg16_weights_tf_dim_ordering_tf_kernels_notop.h5\n",
            "58892288/58889256 [==============================] - 1s 0us/step\n",
            "58900480/58889256 [==============================] - 1s 0us/step\n",
            "Model: \"model\"\n",
            "_________________________________________________________________\n",
            " Layer (type)                Output Shape              Param #   \n",
            "=================================================================\n",
            " input_1 (InputLayer)        [(None, 40, 32, 3)]       0         \n",
            "                                                                 \n",
            " block1_conv1 (Conv2D)       (None, 40, 32, 64)        1792      \n",
            "                                                                 \n",
            " block1_conv2 (Conv2D)       (None, 40, 32, 64)        36928     \n",
            "                                                                 \n",
            " block1_pool (MaxPooling2D)  (None, 20, 16, 64)        0         \n",
            "                                                                 \n",
            " block2_conv1 (Conv2D)       (None, 20, 16, 128)       73856     \n",
            "                                                                 \n",
            " block2_conv2 (Conv2D)       (None, 20, 16, 128)       147584    \n",
            "                                                                 \n",
            " block2_pool (MaxPooling2D)  (None, 10, 8, 128)        0         \n",
            "                                                                 \n",
            " block3_conv1 (Conv2D)       (None, 10, 8, 256)        295168    \n",
            "                                                                 \n",
            " block3_conv2 (Conv2D)       (None, 10, 8, 256)        590080    \n",
            "                                                                 \n",
            " block3_conv3 (Conv2D)       (None, 10, 8, 256)        590080    \n",
            "                                                                 \n",
            " block3_pool (MaxPooling2D)  (None, 5, 4, 256)         0         \n",
            "                                                                 \n",
            " block4_conv1 (Conv2D)       (None, 5, 4, 512)         1180160   \n",
            "                                                                 \n",
            " block4_conv2 (Conv2D)       (None, 5, 4, 512)         2359808   \n",
            "                                                                 \n",
            " block4_conv3 (Conv2D)       (None, 5, 4, 512)         2359808   \n",
            "                                                                 \n",
            " block4_pool (MaxPooling2D)  (None, 2, 2, 512)         0         \n",
            "                                                                 \n",
            " block5_conv1 (Conv2D)       (None, 2, 2, 512)         2359808   \n",
            "                                                                 \n",
            " block5_conv2 (Conv2D)       (None, 2, 2, 512)         2359808   \n",
            "                                                                 \n",
            " block5_conv3 (Conv2D)       (None, 2, 2, 512)         2359808   \n",
            "                                                                 \n",
            " block5_pool (MaxPooling2D)  (None, 1, 1, 512)         0         \n",
            "                                                                 \n",
            " flatten (Flatten)           (None, 512)               0         \n",
            "                                                                 \n",
            " dense (Dense)               (None, 1024)              525312    \n",
            "                                                                 \n",
            " dense_1 (Dense)             (None, 10)                10250     \n",
            "                                                                 \n",
            "=================================================================\n",
            "Total params: 15,250,250\n",
            "Trainable params: 15,250,250\n",
            "Non-trainable params: 0\n",
            "_________________________________________________________________\n"
          ]
        }
      ]
    },
    {
      "cell_type": "code",
      "metadata": {
        "colab": {
          "base_uri": "https://localhost:8080/"
        },
        "id": "KFUNTjL9b4xa",
        "outputId": "6359d585-e67a-4af2-bed3-b2afad54994d"
      },
      "source": [
        "import tensorflow.keras\n",
        "y_train_k = tensorflow.keras.utils.to_categorical(y_train, num_classes=10)\n",
        "y_test_k = tensorflow.keras.utils.to_categorical(y_test, num_classes=10)\n",
        "\n",
        "sgd = tensorflow.keras.optimizers.SGD(lr=0.0008)\n",
        "model.compile(loss='categorical_crossentropy', \n",
        "                           optimizer=sgd, \n",
        "                           metrics=['accuracy'])\n",
        "\n",
        "\n",
        "history = model.fit(X_train, y_train_k, batch_size=128, epochs=50, verbose=1, \n",
        "                                 validation_data=(X_test, y_test_k))"
      ],
      "execution_count": null,
      "outputs": [
        {
          "name": "stderr",
          "output_type": "stream",
          "text": [
            "/usr/local/lib/python3.7/dist-packages/keras/optimizer_v2/gradient_descent.py:102: UserWarning: The `lr` argument is deprecated, use `learning_rate` instead.\n",
            "  super(SGD, self).__init__(name, **kwargs)\n"
          ]
        },
        {
          "name": "stdout",
          "output_type": "stream",
          "text": [
            "Epoch 1/50\n",
            "3/3 [==============================] - 36s 11s/step - loss: 2.3786 - accuracy: 0.2477 - val_loss: 2.3221 - val_accuracy: 0.2900\n",
            "Epoch 2/50\n",
            "3/3 [==============================] - 37s 11s/step - loss: 2.3102 - accuracy: 0.2416 - val_loss: 2.2695 - val_accuracy: 0.2900\n",
            "Epoch 3/50\n",
            "3/3 [==============================] - 36s 11s/step - loss: 2.2534 - accuracy: 0.3547 - val_loss: 2.2193 - val_accuracy: 0.3900\n",
            "Epoch 4/50\n",
            "3/3 [==============================] - 35s 11s/step - loss: 2.2001 - accuracy: 0.3517 - val_loss: 2.1690 - val_accuracy: 0.2400\n",
            "Epoch 5/50\n",
            "3/3 [==============================] - 40s 12s/step - loss: 2.1463 - accuracy: 0.2844 - val_loss: 2.1221 - val_accuracy: 0.2000\n",
            "Epoch 6/50\n",
            "3/3 [==============================] - 34s 11s/step - loss: 2.0951 - accuracy: 0.2661 - val_loss: 2.0747 - val_accuracy: 0.2600\n",
            "Epoch 7/50\n",
            "3/3 [==============================] - 35s 11s/step - loss: 2.0432 - accuracy: 0.2691 - val_loss: 2.0266 - val_accuracy: 0.2700\n",
            "Epoch 8/50\n",
            "3/3 [==============================] - 38s 11s/step - loss: 1.9883 - accuracy: 0.2691 - val_loss: 1.9762 - val_accuracy: 0.2900\n",
            "Epoch 9/50\n",
            "3/3 [==============================] - 37s 12s/step - loss: 1.9325 - accuracy: 0.2966 - val_loss: 1.9246 - val_accuracy: 0.3300\n",
            "Epoch 10/50\n",
            "3/3 [==============================] - 36s 11s/step - loss: 1.8754 - accuracy: 0.3609 - val_loss: 1.8729 - val_accuracy: 0.3800\n",
            "Epoch 11/50\n",
            "3/3 [==============================] - 36s 11s/step - loss: 1.8175 - accuracy: 0.4098 - val_loss: 1.8177 - val_accuracy: 0.4800\n",
            "Epoch 12/50\n",
            "3/3 [==============================] - 36s 11s/step - loss: 1.7565 - accuracy: 0.4740 - val_loss: 1.7607 - val_accuracy: 0.5900\n",
            "Epoch 13/50\n",
            "3/3 [==============================] - 34s 11s/step - loss: 1.6939 - accuracy: 0.5321 - val_loss: 1.7007 - val_accuracy: 0.6400\n",
            "Epoch 14/50\n",
            "3/3 [==============================] - 39s 12s/step - loss: 1.6320 - accuracy: 0.5657 - val_loss: 1.6402 - val_accuracy: 0.6800\n",
            "Epoch 15/50\n",
            "3/3 [==============================] - 37s 12s/step - loss: 1.5647 - accuracy: 0.5963 - val_loss: 1.5755 - val_accuracy: 0.7000\n",
            "Epoch 16/50\n",
            "3/3 [==============================] - 38s 12s/step - loss: 1.4987 - accuracy: 0.5963 - val_loss: 1.5072 - val_accuracy: 0.7600\n",
            "Epoch 17/50\n",
            "3/3 [==============================] - 35s 11s/step - loss: 1.4291 - accuracy: 0.6453 - val_loss: 1.4411 - val_accuracy: 0.7900\n",
            "Epoch 18/50\n",
            "3/3 [==============================] - 40s 12s/step - loss: 1.3580 - accuracy: 0.6850 - val_loss: 1.3658 - val_accuracy: 0.7800\n",
            "Epoch 19/50\n",
            "3/3 [==============================] - 33s 11s/step - loss: 1.2841 - accuracy: 0.7125 - val_loss: 1.2907 - val_accuracy: 0.8200\n",
            "Epoch 20/50\n",
            "3/3 [==============================] - 35s 11s/step - loss: 1.2065 - accuracy: 0.7370 - val_loss: 1.2141 - val_accuracy: 0.8600\n",
            "Epoch 21/50\n",
            "3/3 [==============================] - 36s 11s/step - loss: 1.1266 - accuracy: 0.7951 - val_loss: 1.1321 - val_accuracy: 0.9000\n",
            "Epoch 22/50\n",
            "3/3 [==============================] - 36s 11s/step - loss: 1.0432 - accuracy: 0.8624 - val_loss: 1.0558 - val_accuracy: 0.8400\n",
            "Epoch 23/50\n",
            "3/3 [==============================] - 37s 12s/step - loss: 0.9577 - accuracy: 0.8777 - val_loss: 0.9609 - val_accuracy: 0.9300\n",
            "Epoch 24/50\n",
            "3/3 [==============================] - 35s 11s/step - loss: 0.8724 - accuracy: 0.9113 - val_loss: 0.8794 - val_accuracy: 0.9000\n",
            "Epoch 25/50\n",
            "3/3 [==============================] - 34s 11s/step - loss: 0.7923 - accuracy: 0.9113 - val_loss: 0.7981 - val_accuracy: 0.9000\n",
            "Epoch 26/50\n",
            "3/3 [==============================] - 36s 11s/step - loss: 0.7160 - accuracy: 0.9052 - val_loss: 0.7538 - val_accuracy: 0.8900\n",
            "Epoch 27/50\n",
            "3/3 [==============================] - 35s 11s/step - loss: 0.6519 - accuracy: 0.9511 - val_loss: 0.6541 - val_accuracy: 0.9400\n",
            "Epoch 28/50\n",
            "3/3 [==============================] - 36s 11s/step - loss: 0.5577 - accuracy: 0.9480 - val_loss: 0.5928 - val_accuracy: 0.9200\n",
            "Epoch 29/50\n",
            "3/3 [==============================] - 37s 11s/step - loss: 0.4964 - accuracy: 0.9541 - val_loss: 0.5504 - val_accuracy: 0.8800\n",
            "Epoch 30/50\n",
            "3/3 [==============================] - 36s 12s/step - loss: 0.4416 - accuracy: 0.9480 - val_loss: 0.5081 - val_accuracy: 0.9000\n",
            "Epoch 31/50\n",
            "3/3 [==============================] - 38s 13s/step - loss: 0.3926 - accuracy: 0.9541 - val_loss: 0.4473 - val_accuracy: 0.9300\n",
            "Epoch 32/50\n",
            "3/3 [==============================] - 36s 11s/step - loss: 0.3438 - accuracy: 0.9694 - val_loss: 0.4066 - val_accuracy: 0.9200\n",
            "Epoch 33/50\n",
            "3/3 [==============================] - 45s 13s/step - loss: 0.3097 - accuracy: 0.9786 - val_loss: 0.3786 - val_accuracy: 0.9200\n",
            "Epoch 34/50\n",
            "3/3 [==============================] - 41s 12s/step - loss: 0.2751 - accuracy: 0.9817 - val_loss: 0.3537 - val_accuracy: 0.9100\n",
            "Epoch 35/50\n",
            "3/3 [==============================] - 36s 12s/step - loss: 0.2460 - accuracy: 0.9817 - val_loss: 0.3303 - val_accuracy: 0.9300\n",
            "Epoch 36/50\n",
            "3/3 [==============================] - 38s 11s/step - loss: 0.2216 - accuracy: 0.9908 - val_loss: 0.2993 - val_accuracy: 0.9500\n",
            "Epoch 37/50\n",
            "3/3 [==============================] - 39s 13s/step - loss: 0.1985 - accuracy: 0.9908 - val_loss: 0.2830 - val_accuracy: 0.9400\n",
            "Epoch 38/50\n",
            "3/3 [==============================] - 36s 12s/step - loss: 0.1824 - accuracy: 0.9908 - val_loss: 0.2702 - val_accuracy: 0.9600\n",
            "Epoch 39/50\n",
            "3/3 [==============================] - 39s 13s/step - loss: 0.1733 - accuracy: 0.9878 - val_loss: 0.2672 - val_accuracy: 0.9200\n",
            "Epoch 40/50\n",
            "3/3 [==============================] - 37s 11s/step - loss: 0.1686 - accuracy: 0.9847 - val_loss: 0.2579 - val_accuracy: 0.9200\n",
            "Epoch 41/50\n",
            "3/3 [==============================] - 36s 11s/step - loss: 0.1401 - accuracy: 0.9969 - val_loss: 0.2415 - val_accuracy: 0.9500\n",
            "Epoch 42/50\n",
            "3/3 [==============================] - 40s 12s/step - loss: 0.1265 - accuracy: 1.0000 - val_loss: 0.2424 - val_accuracy: 0.9400\n",
            "Epoch 43/50\n",
            "3/3 [==============================] - 37s 11s/step - loss: 0.1178 - accuracy: 0.9908 - val_loss: 0.2257 - val_accuracy: 0.9300\n",
            "Epoch 44/50\n",
            "3/3 [==============================] - 45s 15s/step - loss: 0.1073 - accuracy: 1.0000 - val_loss: 0.2177 - val_accuracy: 0.9500\n",
            "Epoch 45/50\n",
            "3/3 [==============================] - 38s 11s/step - loss: 0.1035 - accuracy: 0.9969 - val_loss: 0.2035 - val_accuracy: 0.9300\n",
            "Epoch 46/50\n",
            "3/3 [==============================] - 42s 14s/step - loss: 0.0939 - accuracy: 1.0000 - val_loss: 0.2093 - val_accuracy: 0.9300\n",
            "Epoch 47/50\n",
            "3/3 [==============================] - 38s 12s/step - loss: 0.0874 - accuracy: 0.9969 - val_loss: 0.2062 - val_accuracy: 0.9300\n",
            "Epoch 48/50\n",
            "3/3 [==============================] - 39s 12s/step - loss: 0.0819 - accuracy: 1.0000 - val_loss: 0.1940 - val_accuracy: 0.9300\n",
            "Epoch 49/50\n",
            "3/3 [==============================] - 40s 13s/step - loss: 0.0792 - accuracy: 1.0000 - val_loss: 0.1894 - val_accuracy: 0.9500\n",
            "Epoch 50/50\n",
            "3/3 [==============================] - 41s 12s/step - loss: 0.0707 - accuracy: 1.0000 - val_loss: 0.1840 - val_accuracy: 0.9400\n"
          ]
        }
      ]
    },
    {
      "cell_type": "code",
      "metadata": {
        "colab": {
          "base_uri": "https://localhost:8080/"
        },
        "id": "ee9B_yV4vTcm",
        "outputId": "9a4d8552-cbd5-43b3-b05b-79e96511e73d"
      },
      "source": [
        "history.history['accuracy']"
      ],
      "execution_count": null,
      "outputs": [
        {
          "data": {
            "text/plain": [
              "[0.24770642817020416,\n",
              " 0.241590216755867,\n",
              " 0.35474005341529846,\n",
              " 0.3516819477081299,\n",
              " 0.2844036817550659,\n",
              " 0.26605504751205444,\n",
              " 0.269113153219223,\n",
              " 0.269113153219223,\n",
              " 0.29663607478141785,\n",
              " 0.3608562648296356,\n",
              " 0.4097859263420105,\n",
              " 0.47400611639022827,\n",
              " 0.5321100950241089,\n",
              " 0.5657492280006409,\n",
              " 0.5963302850723267,\n",
              " 0.5963302850723267,\n",
              " 0.6452599167823792,\n",
              " 0.6850152611732483,\n",
              " 0.7125382423400879,\n",
              " 0.7370030283927917,\n",
              " 0.7951070070266724,\n",
              " 0.8623853325843811,\n",
              " 0.8776758313179016,\n",
              " 0.9113149642944336,\n",
              " 0.9113149642944336,\n",
              " 0.9051987528800964,\n",
              " 0.9510703086853027,\n",
              " 0.9480122327804565,\n",
              " 0.9541284441947937,\n",
              " 0.9480122327804565,\n",
              " 0.9541284441947937,\n",
              " 0.9694189429283142,\n",
              " 0.9785932898521423,\n",
              " 0.9816513657569885,\n",
              " 0.9816513657569885,\n",
              " 0.9908257126808167,\n",
              " 0.9908257126808167,\n",
              " 0.9908257126808167,\n",
              " 0.9877675771713257,\n",
              " 0.9847095012664795,\n",
              " 0.9969419240951538,\n",
              " 1.0,\n",
              " 0.9908257126808167,\n",
              " 1.0,\n",
              " 0.9969419240951538,\n",
              " 1.0,\n",
              " 0.9969419240951538,\n",
              " 1.0,\n",
              " 1.0,\n",
              " 1.0]"
            ]
          },
          "execution_count": 15,
          "metadata": {},
          "output_type": "execute_result"
        }
      ]
    },
    {
      "cell_type": "code",
      "metadata": {
        "id": "ZC1pUUkkziE-"
      },
      "source": [
        "y_predict_prob = model.predict(X_test)\n",
        "y_predict = y_predict_prob.argmax(axis=-1)"
      ],
      "execution_count": null,
      "outputs": []
    },
    {
      "cell_type": "code",
      "metadata": {
        "colab": {
          "base_uri": "https://localhost:8080/"
        },
        "id": "W9t9GhiLx1Ug",
        "outputId": "6fa89673-e10b-4563-c303-cf37e9a0825d"
      },
      "source": [
        "from sklearn.metrics import confusion_matrix\n",
        "conf_mx = confusion_matrix(y_test, y_predict)\n",
        "conf_mx"
      ],
      "execution_count": null,
      "outputs": [
        {
          "data": {
            "text/plain": [
              "array([[ 8,  0,  0,  0,  0,  2,  0,  0,  0,  0],\n",
              "       [ 0, 10,  0,  0,  0,  0,  0,  0,  0,  0],\n",
              "       [ 0,  1,  9,  0,  0,  0,  0,  0,  0,  0],\n",
              "       [ 0,  0,  0, 10,  0,  0,  0,  0,  0,  0],\n",
              "       [ 0,  0,  0,  0, 10,  0,  0,  0,  0,  0],\n",
              "       [ 1,  0,  0,  0,  0,  9,  0,  0,  0,  0],\n",
              "       [ 0,  0,  0,  0,  0,  0, 10,  0,  0,  0],\n",
              "       [ 0,  0,  0,  0,  0,  0,  0, 10,  0,  0],\n",
              "       [ 0,  0,  0,  0,  0,  2,  0,  0,  8,  0],\n",
              "       [ 0,  0,  0,  0,  0,  0,  0,  0,  0, 10]])"
            ]
          },
          "execution_count": 17,
          "metadata": {},
          "output_type": "execute_result"
        }
      ]
    },
    {
      "cell_type": "code",
      "metadata": {
        "colab": {
          "base_uri": "https://localhost:8080/",
          "height": 476
        },
        "id": "7IGz1bZfuws0",
        "outputId": "501e2f52-c607-40dc-e19d-c20f18a20862"
      },
      "source": [
        "\n",
        "import matplotlib.pyplot as plt\n",
        "\n",
        "def plot_confusion_matrix(matrix):\n",
        "    \"\"\"If you prefer color and a colorbar\"\"\"\n",
        "    fig = plt.figure(figsize=(8,8))\n",
        "    ax = fig.add_subplot(111)\n",
        "    cax = ax.matshow(matrix)\n",
        "    fig.colorbar(cax)\n",
        "    \n",
        "row_sums = conf_mx.sum(axis=1, keepdims=True)\n",
        "norm_conf_mx = conf_mx / row_sums\n",
        "np.fill_diagonal(norm_conf_mx, 0)\n",
        "# plt.matshow(norm_conf_mx, cmap=plt.cm.gray)\n",
        "plot_confusion_matrix(norm_conf_mx)\n",
        "plt.show()"
      ],
      "execution_count": null,
      "outputs": [
        {
          "data": {
            "image/png": "[encoded data removed]",
            "text/plain": [
              "<Figure size 576x576 with 2 Axes>"
            ]
          },
          "metadata": {},
          "output_type": "display_data"
        }
      ]
    },
    {
      "cell_type": "markdown",
      "metadata": {
        "id": "Jw_xuekiyBFD"
      },
      "source": [
        "> The model mistakens the class 5 and 1"
      ]
    },
    {
      "cell_type": "code",
      "metadata": {
        "colab": {
          "base_uri": "https://localhost:8080/"
        },
        "id": "ngZa7-oRz0sp",
        "outputId": "e68563ee-c398-43b5-b385-8399810a9001"
      },
      "source": [
        "from sklearn.metrics import classification_report\n",
        "\n",
        "print(classification_report(y_test, y_predict))"
      ],
      "execution_count": null,
      "outputs": [
        {
          "name": "stdout",
          "output_type": "stream",
          "text": [
            "              precision    recall  f1-score   support\n",
            "\n",
            "           0       0.89      0.80      0.84        10\n",
            "           1       0.91      1.00      0.95        10\n",
            "           2       1.00      0.90      0.95        10\n",
            "           3       1.00      1.00      1.00        10\n",
            "           4       1.00      1.00      1.00        10\n",
            "           5       0.69      0.90      0.78        10\n",
            "           6       1.00      1.00      1.00        10\n",
            "           7       1.00      1.00      1.00        10\n",
            "           8       1.00      0.80      0.89        10\n",
            "           9       1.00      1.00      1.00        10\n",
            "\n",
            "    accuracy                           0.94       100\n",
            "   macro avg       0.95      0.94      0.94       100\n",
            "weighted avg       0.95      0.94      0.94       100\n",
            "\n"
          ]
        }
      ]
    },
    {
      "cell_type": "code",
      "metadata": {
        "colab": {
          "base_uri": "https://localhost:8080/",
          "height": 295
        },
        "id": "5dcJRMkovEHZ",
        "outputId": "604f618e-5472-4db7-dd94-4758dcfcb989"
      },
      "source": [
        "k = ''\n",
        "if 'accuracy' in history.history :\n",
        "    k = 'accuracy'    \n",
        "\n",
        "if 'acc' in history.history :\n",
        "    k = 'acc'\n",
        "    \n",
        "if k != '' :    \n",
        "    plt.plot(history.history[k])\n",
        "    plt.plot(history.history['val_'+k])\n",
        "    plt.title('Model Accuracy')\n",
        "    plt.ylabel('Accuracy')\n",
        "    plt.xlabel('Epoch')\n",
        "    plt.legend(['train', 'test'], loc='upper left')\n",
        "    plt.show()\n"
      ],
      "execution_count": null,
      "outputs": [
        {
          "data": {
            "image/png": "[encoded data removed]",
            "text/plain": [
              "<Figure size 432x288 with 1 Axes>"
            ]
          },
          "metadata": {},
          "output_type": "display_data"
        }
      ]
    },
    {
      "cell_type": "code",
      "metadata": {
        "colab": {
          "base_uri": "https://localhost:8080/",
          "height": 295
        },
        "id": "S9uCWalrvGwq",
        "outputId": "268505f2-ae27-4e04-92a2-ebf5b93ac438"
      },
      "source": [
        "plt.plot(history.history['loss'])\n",
        "plt.plot(history.history['val_loss'])\n",
        "plt.title('Model loss')\n",
        "plt.ylabel('Loss')\n",
        "plt.xlabel('Epoch')\n",
        "plt.legend(['train', 'test'], loc='upper left')\n",
        "plt.show()\n",
        "\n"
      ],
      "execution_count": null,
      "outputs": [
        {
          "data": {
            "image/png": "[encoded data removed]",
            "text/plain": [
              "<Figure size 432x288 with 1 Axes>"
            ]
          },
          "metadata": {},
          "output_type": "display_data"
        }
      ]
    },
    {
      "cell_type": "markdown",
      "metadata": {
        "id": "H1zpIMY1y5v9"
      },
      "source": [
        "The model is a good fit, as the training loss at the beginnig is high but it's decreasing while the model sees more examples, while the validation loss started high and it's decreasing over examples. "
      ]
    },
    {
      "cell_type": "markdown",
      "metadata": {
        "id": "rNS6J7I80s0S"
      },
      "source": [
        "# VGG16 with data augmentation"
      ]
    },
    {
      "cell_type": "code",
      "metadata": {
        "colab": {
          "base_uri": "https://localhost:8080/",
          "height": 256
        },
        "id": "ITZrHQ3p96E4",
        "outputId": "30426cb2-3392-45fb-ceee-8f50dfc55b9f"
      },
      "source": [
        "# make a df of X_train and y_train to make it easy to select each class then to apply augmentation for each class individually\n",
        "df.head()"
      ],
      "execution_count": null,
      "outputs": [
        {
          "data": {
            "text/html": [
              "<div>\n",
              "<style scoped>\n",
              "    .dataframe tbody tr th:only-of-type {\n",
              "        vertical-align: middle;\n",
              "    }\n",
              "\n",
              "    .dataframe tbody tr th {\n",
              "        vertical-align: top;\n",
              "    }\n",
              "\n",
              "    .dataframe thead th {\n",
              "        text-align: right;\n",
              "    }\n",
              "</style>\n",
              "<table border=\"1\" class=\"dataframe\">\n",
              "  <thead>\n",
              "    <tr style=\"text-align: right;\">\n",
              "      <th></th>\n",
              "      <th>0</th>\n",
              "      <th>1</th>\n",
              "      <th>2</th>\n",
              "      <th>3</th>\n",
              "      <th>4</th>\n",
              "      <th>5</th>\n",
              "      <th>6</th>\n",
              "      <th>7</th>\n",
              "      <th>8</th>\n",
              "      <th>9</th>\n",
              "      <th>10</th>\n",
              "      <th>11</th>\n",
              "      <th>12</th>\n",
              "      <th>13</th>\n",
              "      <th>14</th>\n",
              "      <th>15</th>\n",
              "      <th>16</th>\n",
              "      <th>17</th>\n",
              "      <th>18</th>\n",
              "      <th>19</th>\n",
              "      <th>20</th>\n",
              "      <th>21</th>\n",
              "      <th>22</th>\n",
              "      <th>23</th>\n",
              "      <th>24</th>\n",
              "      <th>25</th>\n",
              "      <th>26</th>\n",
              "      <th>27</th>\n",
              "      <th>28</th>\n",
              "      <th>29</th>\n",
              "      <th>30</th>\n",
              "      <th>31</th>\n",
              "      <th>32</th>\n",
              "      <th>33</th>\n",
              "      <th>34</th>\n",
              "      <th>35</th>\n",
              "      <th>36</th>\n",
              "      <th>37</th>\n",
              "      <th>38</th>\n",
              "      <th>39</th>\n",
              "      <th>...</th>\n",
              "      <th>3801</th>\n",
              "      <th>3802</th>\n",
              "      <th>3803</th>\n",
              "      <th>3804</th>\n",
              "      <th>3805</th>\n",
              "      <th>3806</th>\n",
              "      <th>3807</th>\n",
              "      <th>3808</th>\n",
              "      <th>3809</th>\n",
              "      <th>3810</th>\n",
              "      <th>3811</th>\n",
              "      <th>3812</th>\n",
              "      <th>3813</th>\n",
              "      <th>3814</th>\n",
              "      <th>3815</th>\n",
              "      <th>3816</th>\n",
              "      <th>3817</th>\n",
              "      <th>3818</th>\n",
              "      <th>3819</th>\n",
              "      <th>3820</th>\n",
              "      <th>3821</th>\n",
              "      <th>3822</th>\n",
              "      <th>3823</th>\n",
              "      <th>3824</th>\n",
              "      <th>3825</th>\n",
              "      <th>3826</th>\n",
              "      <th>3827</th>\n",
              "      <th>3828</th>\n",
              "      <th>3829</th>\n",
              "      <th>3830</th>\n",
              "      <th>3831</th>\n",
              "      <th>3832</th>\n",
              "      <th>3833</th>\n",
              "      <th>3834</th>\n",
              "      <th>3835</th>\n",
              "      <th>3836</th>\n",
              "      <th>3837</th>\n",
              "      <th>3838</th>\n",
              "      <th>3839</th>\n",
              "      <th>Class</th>\n",
              "    </tr>\n",
              "  </thead>\n",
              "  <tbody>\n",
              "    <tr>\n",
              "      <th>0</th>\n",
              "      <td>0.302022</td>\n",
              "      <td>0.309865</td>\n",
              "      <td>0.298529</td>\n",
              "      <td>0.298836</td>\n",
              "      <td>0.306679</td>\n",
              "      <td>0.297059</td>\n",
              "      <td>0.293934</td>\n",
              "      <td>0.301777</td>\n",
              "      <td>0.290012</td>\n",
              "      <td>0.287745</td>\n",
              "      <td>0.295588</td>\n",
              "      <td>0.283824</td>\n",
              "      <td>0.282843</td>\n",
              "      <td>0.290686</td>\n",
              "      <td>0.278922</td>\n",
              "      <td>0.276654</td>\n",
              "      <td>0.284498</td>\n",
              "      <td>0.272733</td>\n",
              "      <td>0.268995</td>\n",
              "      <td>0.276838</td>\n",
              "      <td>0.265074</td>\n",
              "      <td>0.267586</td>\n",
              "      <td>0.275429</td>\n",
              "      <td>0.263664</td>\n",
              "      <td>0.268566</td>\n",
              "      <td>0.278983</td>\n",
              "      <td>0.264216</td>\n",
              "      <td>0.271569</td>\n",
              "      <td>0.279412</td>\n",
              "      <td>0.267647</td>\n",
              "      <td>0.269424</td>\n",
              "      <td>0.279105</td>\n",
              "      <td>0.265196</td>\n",
              "      <td>0.267708</td>\n",
              "      <td>0.275919</td>\n",
              "      <td>0.263725</td>\n",
              "      <td>0.266728</td>\n",
              "      <td>0.270588</td>\n",
              "      <td>0.258456</td>\n",
              "      <td>0.262071</td>\n",
              "      <td>...</td>\n",
              "      <td>0.686458</td>\n",
              "      <td>0.717831</td>\n",
              "      <td>0.742402</td>\n",
              "      <td>0.524449</td>\n",
              "      <td>0.579289</td>\n",
              "      <td>0.615870</td>\n",
              "      <td>0.358946</td>\n",
              "      <td>0.436581</td>\n",
              "      <td>0.492157</td>\n",
              "      <td>0.239767</td>\n",
              "      <td>0.339461</td>\n",
              "      <td>0.411581</td>\n",
              "      <td>0.158333</td>\n",
              "      <td>0.278922</td>\n",
              "      <td>0.365135</td>\n",
              "      <td>0.110478</td>\n",
              "      <td>0.246814</td>\n",
              "      <td>0.339461</td>\n",
              "      <td>0.109314</td>\n",
              "      <td>0.206985</td>\n",
              "      <td>0.291054</td>\n",
              "      <td>0.106250</td>\n",
              "      <td>0.139583</td>\n",
              "      <td>0.193321</td>\n",
              "      <td>0.051961</td>\n",
              "      <td>0.075490</td>\n",
              "      <td>0.122610</td>\n",
              "      <td>0.047181</td>\n",
              "      <td>0.064400</td>\n",
              "      <td>0.086949</td>\n",
              "      <td>0.057843</td>\n",
              "      <td>0.062439</td>\n",
              "      <td>0.067341</td>\n",
              "      <td>0.067647</td>\n",
              "      <td>0.065196</td>\n",
              "      <td>0.050184</td>\n",
              "      <td>0.077451</td>\n",
              "      <td>0.066667</td>\n",
              "      <td>0.043627</td>\n",
              "      <td>0</td>\n",
              "    </tr>\n",
              "    <tr>\n",
              "      <th>1</th>\n",
              "      <td>0.328922</td>\n",
              "      <td>0.348529</td>\n",
              "      <td>0.332843</td>\n",
              "      <td>0.322549</td>\n",
              "      <td>0.342157</td>\n",
              "      <td>0.326471</td>\n",
              "      <td>0.315502</td>\n",
              "      <td>0.335110</td>\n",
              "      <td>0.319424</td>\n",
              "      <td>0.314216</td>\n",
              "      <td>0.333824</td>\n",
              "      <td>0.315135</td>\n",
              "      <td>0.306373</td>\n",
              "      <td>0.325980</td>\n",
              "      <td>0.313297</td>\n",
              "      <td>0.298529</td>\n",
              "      <td>0.318137</td>\n",
              "      <td>0.302451</td>\n",
              "      <td>0.284130</td>\n",
              "      <td>0.303738</td>\n",
              "      <td>0.288051</td>\n",
              "      <td>0.282904</td>\n",
              "      <td>0.302512</td>\n",
              "      <td>0.286826</td>\n",
              "      <td>0.287745</td>\n",
              "      <td>0.307292</td>\n",
              "      <td>0.291605</td>\n",
              "      <td>0.291176</td>\n",
              "      <td>0.311765</td>\n",
              "      <td>0.296078</td>\n",
              "      <td>0.293321</td>\n",
              "      <td>0.313909</td>\n",
              "      <td>0.298223</td>\n",
              "      <td>0.291176</td>\n",
              "      <td>0.313725</td>\n",
              "      <td>0.298039</td>\n",
              "      <td>0.285846</td>\n",
              "      <td>0.304963</td>\n",
              "      <td>0.293750</td>\n",
              "      <td>0.275184</td>\n",
              "      <td>...</td>\n",
              "      <td>0.863603</td>\n",
              "      <td>0.857721</td>\n",
              "      <td>0.840196</td>\n",
              "      <td>0.776287</td>\n",
              "      <td>0.786397</td>\n",
              "      <td>0.782047</td>\n",
              "      <td>0.571936</td>\n",
              "      <td>0.608517</td>\n",
              "      <td>0.620772</td>\n",
              "      <td>0.441422</td>\n",
              "      <td>0.502206</td>\n",
              "      <td>0.533762</td>\n",
              "      <td>0.362439</td>\n",
              "      <td>0.444301</td>\n",
              "      <td>0.495282</td>\n",
              "      <td>0.238542</td>\n",
              "      <td>0.337868</td>\n",
              "      <td>0.402696</td>\n",
              "      <td>0.175061</td>\n",
              "      <td>0.263113</td>\n",
              "      <td>0.344485</td>\n",
              "      <td>0.151164</td>\n",
              "      <td>0.210110</td>\n",
              "      <td>0.305576</td>\n",
              "      <td>0.114093</td>\n",
              "      <td>0.161703</td>\n",
              "      <td>0.247365</td>\n",
              "      <td>0.088419</td>\n",
              "      <td>0.114400</td>\n",
              "      <td>0.184130</td>\n",
              "      <td>0.067770</td>\n",
              "      <td>0.075245</td>\n",
              "      <td>0.124755</td>\n",
              "      <td>0.067157</td>\n",
              "      <td>0.054718</td>\n",
              "      <td>0.082782</td>\n",
              "      <td>0.087868</td>\n",
              "      <td>0.064828</td>\n",
              "      <td>0.074081</td>\n",
              "      <td>0</td>\n",
              "    </tr>\n",
              "    <tr>\n",
              "      <th>2</th>\n",
              "      <td>0.297488</td>\n",
              "      <td>0.305331</td>\n",
              "      <td>0.293566</td>\n",
              "      <td>0.295588</td>\n",
              "      <td>0.303431</td>\n",
              "      <td>0.291667</td>\n",
              "      <td>0.290686</td>\n",
              "      <td>0.298529</td>\n",
              "      <td>0.286765</td>\n",
              "      <td>0.285784</td>\n",
              "      <td>0.293627</td>\n",
              "      <td>0.281863</td>\n",
              "      <td>0.281863</td>\n",
              "      <td>0.289706</td>\n",
              "      <td>0.277941</td>\n",
              "      <td>0.281679</td>\n",
              "      <td>0.289522</td>\n",
              "      <td>0.277757</td>\n",
              "      <td>0.267586</td>\n",
              "      <td>0.275429</td>\n",
              "      <td>0.263664</td>\n",
              "      <td>0.259314</td>\n",
              "      <td>0.267157</td>\n",
              "      <td>0.255392</td>\n",
              "      <td>0.259314</td>\n",
              "      <td>0.267157</td>\n",
              "      <td>0.255392</td>\n",
              "      <td>0.259314</td>\n",
              "      <td>0.267157</td>\n",
              "      <td>0.255392</td>\n",
              "      <td>0.259314</td>\n",
              "      <td>0.267157</td>\n",
              "      <td>0.255392</td>\n",
              "      <td>0.259314</td>\n",
              "      <td>0.267157</td>\n",
              "      <td>0.255392</td>\n",
              "      <td>0.253064</td>\n",
              "      <td>0.262316</td>\n",
              "      <td>0.248652</td>\n",
              "      <td>0.232353</td>\n",
              "      <td>...</td>\n",
              "      <td>0.823529</td>\n",
              "      <td>0.817647</td>\n",
              "      <td>0.800123</td>\n",
              "      <td>0.720956</td>\n",
              "      <td>0.737990</td>\n",
              "      <td>0.733150</td>\n",
              "      <td>0.530576</td>\n",
              "      <td>0.574694</td>\n",
              "      <td>0.583027</td>\n",
              "      <td>0.386887</td>\n",
              "      <td>0.454902</td>\n",
              "      <td>0.483150</td>\n",
              "      <td>0.275735</td>\n",
              "      <td>0.370466</td>\n",
              "      <td>0.418076</td>\n",
              "      <td>0.174816</td>\n",
              "      <td>0.284681</td>\n",
              "      <td>0.345956</td>\n",
              "      <td>0.147488</td>\n",
              "      <td>0.240074</td>\n",
              "      <td>0.301593</td>\n",
              "      <td>0.106127</td>\n",
              "      <td>0.161336</td>\n",
              "      <td>0.207537</td>\n",
              "      <td>0.058456</td>\n",
              "      <td>0.108517</td>\n",
              "      <td>0.144853</td>\n",
              "      <td>0.045527</td>\n",
              "      <td>0.078431</td>\n",
              "      <td>0.100061</td>\n",
              "      <td>0.043934</td>\n",
              "      <td>0.062255</td>\n",
              "      <td>0.065012</td>\n",
              "      <td>0.063848</td>\n",
              "      <td>0.072365</td>\n",
              "      <td>0.053064</td>\n",
              "      <td>0.050368</td>\n",
              "      <td>0.050858</td>\n",
              "      <td>0.020466</td>\n",
              "      <td>0</td>\n",
              "    </tr>\n",
              "    <tr>\n",
              "      <th>3</th>\n",
              "      <td>0.293627</td>\n",
              "      <td>0.317157</td>\n",
              "      <td>0.317157</td>\n",
              "      <td>0.288725</td>\n",
              "      <td>0.312255</td>\n",
              "      <td>0.312255</td>\n",
              "      <td>0.281373</td>\n",
              "      <td>0.304902</td>\n",
              "      <td>0.304902</td>\n",
              "      <td>0.271569</td>\n",
              "      <td>0.295098</td>\n",
              "      <td>0.295098</td>\n",
              "      <td>0.266176</td>\n",
              "      <td>0.289706</td>\n",
              "      <td>0.289706</td>\n",
              "      <td>0.262745</td>\n",
              "      <td>0.284804</td>\n",
              "      <td>0.284804</td>\n",
              "      <td>0.258150</td>\n",
              "      <td>0.280208</td>\n",
              "      <td>0.280208</td>\n",
              "      <td>0.254963</td>\n",
              "      <td>0.278493</td>\n",
              "      <td>0.278493</td>\n",
              "      <td>0.254902</td>\n",
              "      <td>0.278431</td>\n",
              "      <td>0.278431</td>\n",
              "      <td>0.255086</td>\n",
              "      <td>0.278615</td>\n",
              "      <td>0.278615</td>\n",
              "      <td>0.257843</td>\n",
              "      <td>0.281373</td>\n",
              "      <td>0.281373</td>\n",
              "      <td>0.262316</td>\n",
              "      <td>0.285846</td>\n",
              "      <td>0.285846</td>\n",
              "      <td>0.262316</td>\n",
              "      <td>0.285355</td>\n",
              "      <td>0.283395</td>\n",
              "      <td>0.258027</td>\n",
              "      <td>...</td>\n",
              "      <td>0.677635</td>\n",
              "      <td>0.686091</td>\n",
              "      <td>0.704167</td>\n",
              "      <td>0.546998</td>\n",
              "      <td>0.574939</td>\n",
              "      <td>0.614645</td>\n",
              "      <td>0.350919</td>\n",
              "      <td>0.403370</td>\n",
              "      <td>0.465441</td>\n",
              "      <td>0.239400</td>\n",
              "      <td>0.316054</td>\n",
              "      <td>0.402328</td>\n",
              "      <td>0.175980</td>\n",
              "      <td>0.273958</td>\n",
              "      <td>0.382843</td>\n",
              "      <td>0.121385</td>\n",
              "      <td>0.240502</td>\n",
              "      <td>0.360539</td>\n",
              "      <td>0.111336</td>\n",
              "      <td>0.216728</td>\n",
              "      <td>0.348162</td>\n",
              "      <td>0.125429</td>\n",
              "      <td>0.196507</td>\n",
              "      <td>0.336213</td>\n",
              "      <td>0.117770</td>\n",
              "      <td>0.191850</td>\n",
              "      <td>0.321691</td>\n",
              "      <td>0.130821</td>\n",
              "      <td>0.212255</td>\n",
              "      <td>0.330453</td>\n",
              "      <td>0.123958</td>\n",
              "      <td>0.207108</td>\n",
              "      <td>0.307598</td>\n",
              "      <td>0.113235</td>\n",
              "      <td>0.198223</td>\n",
              "      <td>0.288603</td>\n",
              "      <td>0.128676</td>\n",
              "      <td>0.213051</td>\n",
              "      <td>0.294914</td>\n",
              "      <td>0</td>\n",
              "    </tr>\n",
              "    <tr>\n",
              "      <th>4</th>\n",
              "      <td>0.320588</td>\n",
              "      <td>0.336275</td>\n",
              "      <td>0.332353</td>\n",
              "      <td>0.314216</td>\n",
              "      <td>0.329902</td>\n",
              "      <td>0.325980</td>\n",
              "      <td>0.309314</td>\n",
              "      <td>0.325000</td>\n",
              "      <td>0.321078</td>\n",
              "      <td>0.312745</td>\n",
              "      <td>0.328431</td>\n",
              "      <td>0.324510</td>\n",
              "      <td>0.313235</td>\n",
              "      <td>0.328922</td>\n",
              "      <td>0.325000</td>\n",
              "      <td>0.310294</td>\n",
              "      <td>0.325980</td>\n",
              "      <td>0.322059</td>\n",
              "      <td>0.294056</td>\n",
              "      <td>0.309743</td>\n",
              "      <td>0.305821</td>\n",
              "      <td>0.287255</td>\n",
              "      <td>0.302941</td>\n",
              "      <td>0.299020</td>\n",
              "      <td>0.287255</td>\n",
              "      <td>0.302941</td>\n",
              "      <td>0.299020</td>\n",
              "      <td>0.287255</td>\n",
              "      <td>0.302941</td>\n",
              "      <td>0.299020</td>\n",
              "      <td>0.287255</td>\n",
              "      <td>0.302941</td>\n",
              "      <td>0.299020</td>\n",
              "      <td>0.287255</td>\n",
              "      <td>0.302941</td>\n",
              "      <td>0.299020</td>\n",
              "      <td>0.287194</td>\n",
              "      <td>0.297549</td>\n",
              "      <td>0.293260</td>\n",
              "      <td>0.284007</td>\n",
              "      <td>...</td>\n",
              "      <td>0.764154</td>\n",
              "      <td>0.731801</td>\n",
              "      <td>0.682292</td>\n",
              "      <td>0.790625</td>\n",
              "      <td>0.754718</td>\n",
              "      <td>0.707230</td>\n",
              "      <td>0.772181</td>\n",
              "      <td>0.739216</td>\n",
              "      <td>0.688725</td>\n",
              "      <td>0.730515</td>\n",
              "      <td>0.698162</td>\n",
              "      <td>0.652267</td>\n",
              "      <td>0.660049</td>\n",
              "      <td>0.633701</td>\n",
              "      <td>0.587990</td>\n",
              "      <td>0.619056</td>\n",
              "      <td>0.593627</td>\n",
              "      <td>0.547978</td>\n",
              "      <td>0.638174</td>\n",
              "      <td>0.570098</td>\n",
              "      <td>0.530699</td>\n",
              "      <td>0.674326</td>\n",
              "      <td>0.546201</td>\n",
              "      <td>0.508946</td>\n",
              "      <td>0.670037</td>\n",
              "      <td>0.562255</td>\n",
              "      <td>0.533762</td>\n",
              "      <td>0.449387</td>\n",
              "      <td>0.383272</td>\n",
              "      <td>0.369853</td>\n",
              "      <td>0.276471</td>\n",
              "      <td>0.256005</td>\n",
              "      <td>0.264338</td>\n",
              "      <td>0.295159</td>\n",
              "      <td>0.318505</td>\n",
              "      <td>0.346140</td>\n",
              "      <td>0.200919</td>\n",
              "      <td>0.259375</td>\n",
              "      <td>0.306434</td>\n",
              "      <td>0</td>\n",
              "    </tr>\n",
              "  </tbody>\n",
              "</table>\n",
              "<p>5 rows × 3841 columns</p>\n",
              "</div>"
            ],
            "text/plain": [
              "          0         1         2         3  ...      3837      3838      3839  Class\n",
              "0  0.302022  0.309865  0.298529  0.298836  ...  0.077451  0.066667  0.043627      0\n",
              "1  0.328922  0.348529  0.332843  0.322549  ...  0.087868  0.064828  0.074081      0\n",
              "2  0.297488  0.305331  0.293566  0.295588  ...  0.050368  0.050858  0.020466      0\n",
              "3  0.293627  0.317157  0.317157  0.288725  ...  0.128676  0.213051  0.294914      0\n",
              "4  0.320588  0.336275  0.332353  0.314216  ...  0.200919  0.259375  0.306434      0\n",
              "\n",
              "[5 rows x 3841 columns]"
            ]
          },
          "execution_count": 22,
          "metadata": {},
          "output_type": "execute_result"
        }
      ]
    },
    {
      "cell_type": "code",
      "metadata": {
        "id": "KKSYleag1tUM"
      },
      "source": [
        "from keras.preprocessing.image import ImageDataGenerator\n",
        "\n",
        "datagen = ImageDataGenerator(\n",
        "        rotation_range=20,\n",
        "        width_shift_range=0.002,\n",
        "        height_shift_range=0.002,\n",
        "         zoom_range=0.01,\n",
        "         horizontal_flip=True,\n",
        "        fill_mode='nearest')"
      ],
      "execution_count": null,
      "outputs": []
    },
    {
      "cell_type": "code",
      "metadata": {
        "colab": {
          "base_uri": "https://localhost:8080/"
        },
        "id": "wfHOjKW8XKBx",
        "outputId": "9114558f-d6dd-47ad-cf9d-e7ac44b7a0bf"
      },
      "source": [
        "for layer in model.layers:\n",
        "    layer.trainable = False\n",
        "model = VGG16(include_top=False, input_shape=X_train[0].shape)\n",
        "flat1 = Flatten()(model.layers[-1].output)\n",
        "class1 = Dense(1024, activation='relu')(flat1)\n",
        "output = Dense(10, activation='softmax')(class1)\n",
        "\n",
        "model_aug = Model(inputs=model.inputs, outputs=output)\n",
        "model.summary()"
      ],
      "execution_count": null,
      "outputs": [
        {
          "name": "stdout",
          "output_type": "stream",
          "text": [
            "Model: \"vgg16\"\n",
            "_________________________________________________________________\n",
            " Layer (type)                Output Shape              Param #   \n",
            "=================================================================\n",
            " input_7 (InputLayer)        [(None, 40, 32, 3)]       0         \n",
            "                                                                 \n",
            " block1_conv1 (Conv2D)       (None, 40, 32, 64)        1792      \n",
            "                                                                 \n",
            " block1_conv2 (Conv2D)       (None, 40, 32, 64)        36928     \n",
            "                                                                 \n",
            " block1_pool (MaxPooling2D)  (None, 20, 16, 64)        0         \n",
            "                                                                 \n",
            " block2_conv1 (Conv2D)       (None, 20, 16, 128)       73856     \n",
            "                                                                 \n",
            " block2_conv2 (Conv2D)       (None, 20, 16, 128)       147584    \n",
            "                                                                 \n",
            " block2_pool (MaxPooling2D)  (None, 10, 8, 128)        0         \n",
            "                                                                 \n",
            " block3_conv1 (Conv2D)       (None, 10, 8, 256)        295168    \n",
            "                                                                 \n",
            " block3_conv2 (Conv2D)       (None, 10, 8, 256)        590080    \n",
            "                                                                 \n",
            " block3_conv3 (Conv2D)       (None, 10, 8, 256)        590080    \n",
            "                                                                 \n",
            " block3_pool (MaxPooling2D)  (None, 5, 4, 256)         0         \n",
            "                                                                 \n",
            " block4_conv1 (Conv2D)       (None, 5, 4, 512)         1180160   \n",
            "                                                                 \n",
            " block4_conv2 (Conv2D)       (None, 5, 4, 512)         2359808   \n",
            "                                                                 \n",
            " block4_conv3 (Conv2D)       (None, 5, 4, 512)         2359808   \n",
            "                                                                 \n",
            " block4_pool (MaxPooling2D)  (None, 2, 2, 512)         0         \n",
            "                                                                 \n",
            " block5_conv1 (Conv2D)       (None, 2, 2, 512)         2359808   \n",
            "                                                                 \n",
            " block5_conv2 (Conv2D)       (None, 2, 2, 512)         2359808   \n",
            "                                                                 \n",
            " block5_conv3 (Conv2D)       (None, 2, 2, 512)         2359808   \n",
            "                                                                 \n",
            " block5_pool (MaxPooling2D)  (None, 1, 1, 512)         0         \n",
            "                                                                 \n",
            "=================================================================\n",
            "Total params: 14,714,688\n",
            "Trainable params: 14,714,688\n",
            "Non-trainable params: 0\n",
            "_________________________________________________________________\n"
          ]
        }
      ]
    },
    {
      "cell_type": "code",
      "metadata": {
        "colab": {
          "background_save": true,
          "base_uri": "https://localhost:8080/"
        },
        "id": "ql-WfhiSewcj",
        "outputId": "3d544481-10bc-4171-dea6-a80602f114b1"
      },
      "source": [
        "y_train_k = tensorflow.keras.utils.to_categorical(y_train, num_classes=10)\n",
        "y_test_k = tensorflow.keras.utils.to_categorical(y_test, num_classes=10)\n",
        "\n",
        "sgd = tensorflow.keras.optimizers.SGD(lr=0.0008)\n",
        "model_aug.compile(loss='categorical_crossentropy', \n",
        "                           optimizer=sgd, \n",
        "                           metrics=['accuracy'])\n",
        "\n",
        "\n",
        "history = model_aug.fit(datagen.flow(X_train, y_train_k), batch_size=128, epochs=50, verbose=1, \n",
        "                                 validation_data=(X_test, y_test_k))\n"
      ],
      "execution_count": null,
      "outputs": [
        {
          "name": "stderr",
          "output_type": "stream",
          "text": [
            "/usr/local/lib/python3.7/dist-packages/keras/optimizer_v2/gradient_descent.py:102: UserWarning: The `lr` argument is deprecated, use `learning_rate` instead.\n",
            "  super(SGD, self).__init__(name, **kwargs)\n"
          ]
        },
        {
          "name": "stdout",
          "output_type": "stream",
          "text": [
            "Epoch 1/50\n",
            "11/11 [==============================] - 49s 4s/step - loss: 2.2342 - accuracy: 0.1682 - val_loss: 2.2704 - val_accuracy: 0.1500\n",
            "Epoch 2/50\n",
            "11/11 [==============================] - 44s 4s/step - loss: 2.1082 - accuracy: 0.2783 - val_loss: 2.1750 - val_accuracy: 0.1700\n",
            "Epoch 3/50\n",
            "11/11 [==============================] - 46s 4s/step - loss: 1.9993 - accuracy: 0.3089 - val_loss: 2.0578 - val_accuracy: 0.2000\n",
            "Epoch 4/50\n",
            "11/11 [==============================] - 45s 4s/step - loss: 1.8578 - accuracy: 0.4037 - val_loss: 1.9115 - val_accuracy: 0.3500\n",
            "Epoch 5/50\n",
            "11/11 [==============================] - 41s 4s/step - loss: 1.6947 - accuracy: 0.4495 - val_loss: 1.7465 - val_accuracy: 0.3700\n",
            "Epoch 6/50\n",
            "11/11 [==============================] - 43s 4s/step - loss: 1.5267 - accuracy: 0.5168 - val_loss: 1.5831 - val_accuracy: 0.4500\n",
            "Epoch 7/50\n",
            "11/11 [==============================] - 41s 4s/step - loss: 1.3060 - accuracy: 0.6300 - val_loss: 1.3097 - val_accuracy: 0.6500\n",
            "Epoch 8/50\n",
            "11/11 [==============================] - 41s 4s/step - loss: 1.0567 - accuracy: 0.7278 - val_loss: 1.0588 - val_accuracy: 0.7400\n",
            "Epoch 9/50\n",
            "11/11 [==============================] - 40s 4s/step - loss: 0.8725 - accuracy: 0.7737 - val_loss: 0.8953 - val_accuracy: 0.7000\n",
            "Epoch 10/50\n",
            "11/11 [==============================] - 40s 4s/step - loss: 0.7506 - accuracy: 0.7920 - val_loss: 0.7244 - val_accuracy: 0.7600\n",
            "Epoch 11/50\n",
            "11/11 [==============================] - 40s 4s/step - loss: 0.5191 - accuracy: 0.8807 - val_loss: 0.6619 - val_accuracy: 0.7800\n",
            "Epoch 12/50\n",
            "11/11 [==============================] - 40s 4s/step - loss: 0.5727 - accuracy: 0.8165 - val_loss: 0.5028 - val_accuracy: 0.8000\n",
            "Epoch 13/50\n",
            "11/11 [==============================] - 40s 4s/step - loss: 0.3359 - accuracy: 0.9266 - val_loss: 0.4854 - val_accuracy: 0.8000\n",
            "Epoch 14/50\n",
            "11/11 [==============================] - 39s 4s/step - loss: 0.3438 - accuracy: 0.8960 - val_loss: 0.5769 - val_accuracy: 0.7100\n",
            "Epoch 15/50\n",
            "11/11 [==============================] - 39s 4s/step - loss: 0.3548 - accuracy: 0.8654 - val_loss: 0.3683 - val_accuracy: 0.8600\n",
            "Epoch 16/50\n",
            "11/11 [==============================] - 38s 4s/step - loss: 0.1859 - accuracy: 0.9541 - val_loss: 0.3064 - val_accuracy: 0.8800\n",
            "Epoch 17/50\n",
            "11/11 [==============================] - 39s 4s/step - loss: 0.1775 - accuracy: 0.9541 - val_loss: 0.4998 - val_accuracy: 0.8600\n",
            "Epoch 18/50\n",
            "11/11 [==============================] - 38s 3s/step - loss: 0.2490 - accuracy: 0.9235 - val_loss: 0.3256 - val_accuracy: 0.8900\n",
            "Epoch 19/50\n",
            "11/11 [==============================] - 38s 3s/step - loss: 0.2275 - accuracy: 0.9480 - val_loss: 0.3030 - val_accuracy: 0.9000\n",
            "Epoch 20/50\n",
            "11/11 [==============================] - 38s 3s/step - loss: 0.3554 - accuracy: 0.8899 - val_loss: 0.3000 - val_accuracy: 0.9100\n",
            "Epoch 21/50\n",
            "11/11 [==============================] - 38s 3s/step - loss: 0.1504 - accuracy: 0.9572 - val_loss: 0.3947 - val_accuracy: 0.8600\n",
            "Epoch 22/50\n",
            "11/11 [==============================] - 38s 4s/step - loss: 0.1251 - accuracy: 0.9694 - val_loss: 0.3161 - val_accuracy: 0.8800\n",
            "Epoch 23/50\n",
            "11/11 [==============================] - 39s 4s/step - loss: 0.1028 - accuracy: 0.9786 - val_loss: 0.2685 - val_accuracy: 0.9000\n",
            "Epoch 24/50\n",
            "11/11 [==============================] - 38s 3s/step - loss: 0.1428 - accuracy: 0.9694 - val_loss: 0.3921 - val_accuracy: 0.8500\n",
            "Epoch 25/50\n",
            "11/11 [==============================] - 37s 3s/step - loss: 0.1403 - accuracy: 0.9572 - val_loss: 0.3010 - val_accuracy: 0.8600\n",
            "Epoch 26/50\n",
            "11/11 [==============================] - 39s 4s/step - loss: 0.0808 - accuracy: 0.9847 - val_loss: 0.2488 - val_accuracy: 0.9200\n",
            "Epoch 27/50\n",
            "11/11 [==============================] - 41s 4s/step - loss: 0.0925 - accuracy: 0.9817 - val_loss: 0.2474 - val_accuracy: 0.9300\n",
            "Epoch 28/50\n",
            "11/11 [==============================] - 39s 4s/step - loss: 0.1148 - accuracy: 0.9602 - val_loss: 0.2625 - val_accuracy: 0.9200\n",
            "Epoch 29/50\n",
            "11/11 [==============================] - 38s 4s/step - loss: 0.0478 - accuracy: 0.9939 - val_loss: 0.2113 - val_accuracy: 0.9200\n",
            "Epoch 30/50\n",
            "11/11 [==============================] - 38s 3s/step - loss: 0.0351 - accuracy: 0.9969 - val_loss: 0.2421 - val_accuracy: 0.9200\n",
            "Epoch 31/50\n",
            "11/11 [==============================] - 37s 4s/step - loss: 0.0396 - accuracy: 0.9908 - val_loss: 0.2014 - val_accuracy: 0.9300\n",
            "Epoch 32/50\n",
            "11/11 [==============================] - 38s 3s/step - loss: 0.0443 - accuracy: 0.9969 - val_loss: 0.2182 - val_accuracy: 0.9400\n",
            "Epoch 33/50\n",
            "11/11 [==============================] - 39s 4s/step - loss: 0.0319 - accuracy: 1.0000 - val_loss: 0.1994 - val_accuracy: 0.9500\n",
            "Epoch 34/50\n",
            "11/11 [==============================] - 38s 3s/step - loss: 0.0428 - accuracy: 0.9878 - val_loss: 0.2361 - val_accuracy: 0.9100\n",
            "Epoch 35/50\n",
            "11/11 [==============================] - 39s 4s/step - loss: 0.0261 - accuracy: 0.9969 - val_loss: 0.2133 - val_accuracy: 0.9000\n",
            "Epoch 36/50\n",
            "11/11 [==============================] - 39s 4s/step - loss: 0.0280 - accuracy: 1.0000 - val_loss: 0.1968 - val_accuracy: 0.9300\n",
            "Epoch 37/50\n",
            "11/11 [==============================] - 40s 4s/step - loss: 0.0441 - accuracy: 0.9908 - val_loss: 0.1858 - val_accuracy: 0.9300\n",
            "Epoch 38/50\n",
            "11/11 [==============================] - 38s 3s/step - loss: 0.0429 - accuracy: 0.9908 - val_loss: 0.1965 - val_accuracy: 0.9300\n",
            "Epoch 39/50\n",
            "11/11 [==============================] - 38s 3s/step - loss: 0.0247 - accuracy: 1.0000 - val_loss: 0.2073 - val_accuracy: 0.9200\n",
            "Epoch 40/50\n",
            "11/11 [==============================] - 39s 4s/step - loss: 0.0323 - accuracy: 0.9969 - val_loss: 0.2549 - val_accuracy: 0.9400\n",
            "Epoch 41/50\n",
            "11/11 [==============================] - 41s 4s/step - loss: 0.0219 - accuracy: 0.9969 - val_loss: 0.2022 - val_accuracy: 0.9300\n",
            "Epoch 42/50\n",
            "11/11 [==============================] - 40s 4s/step - loss: 0.0156 - accuracy: 1.0000 - val_loss: 0.1970 - val_accuracy: 0.9400\n",
            "Epoch 43/50\n",
            "11/11 [==============================] - 40s 4s/step - loss: 0.0134 - accuracy: 1.0000 - val_loss: 0.1987 - val_accuracy: 0.9400\n",
            "Epoch 44/50\n",
            "11/11 [==============================] - 45s 4s/step - loss: 0.0134 - accuracy: 1.0000 - val_loss: 0.2202 - val_accuracy: 0.9100\n",
            "Epoch 45/50\n",
            "11/11 [==============================] - 43s 4s/step - loss: 0.0180 - accuracy: 1.0000 - val_loss: 0.2616 - val_accuracy: 0.9100\n",
            "Epoch 46/50\n",
            "11/11 [==============================] - 41s 4s/step - loss: 0.0373 - accuracy: 0.9908 - val_loss: 0.6116 - val_accuracy: 0.8600\n",
            "Epoch 47/50\n",
            "11/11 [==============================] - 41s 4s/step - loss: 0.0555 - accuracy: 0.9847 - val_loss: 0.2081 - val_accuracy: 0.9100\n",
            "Epoch 48/50\n",
            "11/11 [==============================] - 42s 4s/step - loss: 0.0180 - accuracy: 0.9939 - val_loss: 0.2116 - val_accuracy: 0.9100\n",
            "Epoch 49/50\n",
            "11/11 [==============================] - 40s 4s/step - loss: 0.0105 - accuracy: 1.0000 - val_loss: 0.2034 - val_accuracy: 0.9200\n",
            "Epoch 50/50\n",
            "11/11 [==============================] - 42s 4s/step - loss: 0.0139 - accuracy: 1.0000 - val_loss: 0.1946 - val_accuracy: 0.9200\n"
          ]
        }
      ]
    },
    {
      "cell_type": "code",
      "metadata": {
        "id": "ypwBSbMfr7ht"
      },
      "source": [
        "y_predict_prob = model_aug.predict(X_test)\n",
        "y_predict = y_predict_prob.argmax(axis=-1)"
      ],
      "execution_count": null,
      "outputs": []
    },
    {
      "cell_type": "code",
      "metadata": {
        "colab": {
          "base_uri": "https://localhost:8080/",
          "height": 476
        },
        "id": "5evmNY8Pr2K2",
        "outputId": "fd6a84db-4ab1-4661-9a69-481e1cb565bc"
      },
      "source": [
        "row_sums = conf_mx.sum(axis=1, keepdims=True)\n",
        "norm_conf_mx = conf_mx / row_sums\n",
        "np.fill_diagonal(norm_conf_mx, 0)\n",
        "# plt.matshow(norm_conf_mx, cmap=plt.cm.gray)\n",
        "plot_confusion_matrix(norm_conf_mx)\n",
        "plt.show()"
      ],
      "execution_count": null,
      "outputs": [
        {
          "data": {
            "image/png": "[encoded data removed]",
            "text/plain": [
              "<Figure size 576x576 with 2 Axes>"
            ]
          },
          "metadata": {},
          "output_type": "display_data"
        }
      ]
    },
    {
      "cell_type": "code",
      "metadata": {
        "colab": {
          "base_uri": "https://localhost:8080/"
        },
        "id": "2-fOre9hrxIE",
        "outputId": "ddb7cbca-73bf-4993-c04b-a0e8ae71f504"
      },
      "source": [
        "print(classification_report(y_test, y_predict))"
      ],
      "execution_count": null,
      "outputs": [
        {
          "name": "stdout",
          "output_type": "stream",
          "text": [
            "              precision    recall  f1-score   support\n",
            "\n",
            "           0       0.75      0.60      0.67        10\n",
            "           1       1.00      1.00      1.00        10\n",
            "           2       0.83      1.00      0.91        10\n",
            "           3       1.00      1.00      1.00        10\n",
            "           4       1.00      1.00      1.00        10\n",
            "           5       0.88      0.70      0.78        10\n",
            "           6       1.00      1.00      1.00        10\n",
            "           7       0.77      1.00      0.87        10\n",
            "           8       1.00      0.90      0.95        10\n",
            "           9       1.00      1.00      1.00        10\n",
            "\n",
            "    accuracy                           0.92       100\n",
            "   macro avg       0.92      0.92      0.92       100\n",
            "weighted avg       0.92      0.92      0.92       100\n",
            "\n"
          ]
        }
      ]
    },
    {
      "cell_type": "code",
      "metadata": {
        "colab": {
          "base_uri": "https://localhost:8080/",
          "height": 295
        },
        "id": "FttXAkaprk6W",
        "outputId": "57a0f429-053a-48ed-b54c-f584464fa722"
      },
      "source": [
        "k = ''\n",
        "if 'accuracy' in history.history :\n",
        "    k = 'accuracy'    \n",
        "\n",
        "if 'acc' in history.history :\n",
        "    k = 'acc'\n",
        "    \n",
        "if k != '' :    \n",
        "    plt.plot(history.history[k])\n",
        "    plt.plot(history.history['val_'+k])\n",
        "    plt.title('Model Accuracy')\n",
        "    plt.ylabel('Accuracy')\n",
        "    plt.xlabel('Epoch')\n",
        "    plt.legend(['train', 'test'], loc='upper left')\n",
        "    plt.show()"
      ],
      "execution_count": null,
      "outputs": [
        {
          "data": {
            "image/png": "[encoded data removed]",
            "text/plain": [
              "<Figure size 432x288 with 1 Axes>"
            ]
          },
          "metadata": {},
          "output_type": "display_data"
        }
      ]
    },
    {
      "cell_type": "code",
      "metadata": {
        "colab": {
          "base_uri": "https://localhost:8080/",
          "height": 295
        },
        "id": "TxVGcGnSrl-2",
        "outputId": "68747c5c-926e-42ef-870f-fc5d09141aba"
      },
      "source": [
        "plt.plot(history.history['loss'])\n",
        "plt.plot(history.history['val_loss'])\n",
        "plt.title('Model loss')\n",
        "plt.ylabel('Loss')\n",
        "plt.xlabel('Epoch')\n",
        "plt.legend(['train', 'test'], loc='upper left')\n",
        "plt.show()\n",
        "\n"
      ],
      "execution_count": null,
      "outputs": [
        {
          "data": {
            "image/png": "[encoded data removed]",
            "text/plain": [
              "<Figure size 432x288 with 1 Axes>"
            ]
          },
          "metadata": {},
          "output_type": "display_data"
        }
      ]
    },
    {
      "cell_type": "markdown",
      "metadata": {
        "id": "9UT8RGbdfQYp"
      },
      "source": [
        "# VGG16 with data regularization"
      ]
    },
    {
      "cell_type": "code",
      "metadata": {
        "colab": {
          "base_uri": "https://localhost:8080/"
        },
        "id": "hAbxh4ycfgav",
        "outputId": "2b4450c8-f0a2-42e5-a474-13f62cf51040"
      },
      "source": [
        "from keras.layers import BatchNormalization\n",
        "for layer in model.layers:\n",
        "    layer.trainable = False\n",
        "model = VGG16(include_top=False, input_shape=X_train[0].shape)\n",
        "flat1 = Flatten()(model.layers[-1].output)\n",
        "t=BatchNormalization()(flat1)\n",
        "        \n",
        "class1 = Dense(1024, activation='relu')(t)\n",
        "tt=BatchNormalization()(class1)\n",
        "output = Dense(10, activation='softmax')(tt)\n",
        "\n",
        "model_reg = Model(inputs=model.inputs, outputs=output)\n",
        "model.summary()"
      ],
      "execution_count": null,
      "outputs": [
        {
          "name": "stdout",
          "output_type": "stream",
          "text": [
            "Model: \"vgg16\"\n",
            "_________________________________________________________________\n",
            " Layer (type)                Output Shape              Param #   \n",
            "=================================================================\n",
            " input_2 (InputLayer)        [(None, 40, 32, 3)]       0         \n",
            "                                                                 \n",
            " block1_conv1 (Conv2D)       (None, 40, 32, 64)        1792      \n",
            "                                                                 \n",
            " block1_conv2 (Conv2D)       (None, 40, 32, 64)        36928     \n",
            "                                                                 \n",
            " block1_pool (MaxPooling2D)  (None, 20, 16, 64)        0         \n",
            "                                                                 \n",
            " block2_conv1 (Conv2D)       (None, 20, 16, 128)       73856     \n",
            "                                                                 \n",
            " block2_conv2 (Conv2D)       (None, 20, 16, 128)       147584    \n",
            "                                                                 \n",
            " block2_pool (MaxPooling2D)  (None, 10, 8, 128)        0         \n",
            "                                                                 \n",
            " block3_conv1 (Conv2D)       (None, 10, 8, 256)        295168    \n",
            "                                                                 \n",
            " block3_conv2 (Conv2D)       (None, 10, 8, 256)        590080    \n",
            "                                                                 \n",
            " block3_conv3 (Conv2D)       (None, 10, 8, 256)        590080    \n",
            "                                                                 \n",
            " block3_pool (MaxPooling2D)  (None, 5, 4, 256)         0         \n",
            "                                                                 \n",
            " block4_conv1 (Conv2D)       (None, 5, 4, 512)         1180160   \n",
            "                                                                 \n",
            " block4_conv2 (Conv2D)       (None, 5, 4, 512)         2359808   \n",
            "                                                                 \n",
            " block4_conv3 (Conv2D)       (None, 5, 4, 512)         2359808   \n",
            "                                                                 \n",
            " block4_pool (MaxPooling2D)  (None, 2, 2, 512)         0         \n",
            "                                                                 \n",
            " block5_conv1 (Conv2D)       (None, 2, 2, 512)         2359808   \n",
            "                                                                 \n",
            " block5_conv2 (Conv2D)       (None, 2, 2, 512)         2359808   \n",
            "                                                                 \n",
            " block5_conv3 (Conv2D)       (None, 2, 2, 512)         2359808   \n",
            "                                                                 \n",
            " block5_pool (MaxPooling2D)  (None, 1, 1, 512)         0         \n",
            "                                                                 \n",
            "=================================================================\n",
            "Total params: 14,714,688\n",
            "Trainable params: 14,714,688\n",
            "Non-trainable params: 0\n",
            "_________________________________________________________________\n"
          ]
        }
      ]
    },
    {
      "cell_type": "code",
      "metadata": {
        "colab": {
          "background_save": true,
          "base_uri": "https://localhost:8080/"
        },
        "id": "puVd3CwJtuUR",
        "outputId": "fc348f5b-3385-4c74-f0ec-287c6e20efce"
      },
      "source": [
        "y_train_k = tensorflow.keras.utils.to_categorical(y_train, num_classes=10)\n",
        "y_test_k = tensorflow.keras.utils.to_categorical(y_test, num_classes=10)\n",
        "\n",
        "sgd = tensorflow.keras.optimizers.SGD(lr=0.0008)\n",
        "model_reg.compile(loss='categorical_crossentropy', \n",
        "                           optimizer=sgd, \n",
        "                           metrics=['accuracy'])\n",
        "\n",
        "\n",
        "history = model_reg.fit(X_train, y_train_k, batch_size=128, epochs=50, verbose=1, \n",
        "                                 validation_data=(X_test, y_test_k))\n"
      ],
      "execution_count": null,
      "outputs": [
        {
          "name": "stderr",
          "output_type": "stream",
          "text": [
            "/usr/local/lib/python3.7/dist-packages/keras/optimizer_v2/gradient_descent.py:102: UserWarning: The `lr` argument is deprecated, use `learning_rate` instead.\n",
            "  super(SGD, self).__init__(name, **kwargs)\n"
          ]
        },
        {
          "name": "stdout",
          "output_type": "stream",
          "text": [
            "Epoch 1/50\n",
            "11/11 [==============================] - 42s 4s/step - loss: 1.3305 - accuracy: 0.5933 - val_loss: 2.1815 - val_accuracy: 0.1900\n",
            "Epoch 2/50\n",
            "11/11 [==============================] - 42s 4s/step - loss: 0.6333 - accuracy: 0.8196 - val_loss: 2.0489 - val_accuracy: 0.2800\n",
            "Epoch 3/50\n",
            "11/11 [==============================] - 40s 4s/step - loss: 0.3468 - accuracy: 0.9113 - val_loss: 1.9882 - val_accuracy: 0.3500\n",
            "Epoch 4/50\n",
            "11/11 [==============================] - 40s 4s/step - loss: 0.2320 - accuracy: 0.9388 - val_loss: 1.8897 - val_accuracy: 0.5500\n",
            "Epoch 5/50\n",
            "11/11 [==============================] - 41s 4s/step - loss: 0.1463 - accuracy: 0.9817 - val_loss: 1.7978 - val_accuracy: 0.5500\n",
            "Epoch 6/50\n",
            "11/11 [==============================] - 42s 4s/step - loss: 0.1364 - accuracy: 0.9786 - val_loss: 1.7330 - val_accuracy: 0.6000\n",
            "Epoch 7/50\n",
            "11/11 [==============================] - 39s 4s/step - loss: 0.0764 - accuracy: 0.9939 - val_loss: 1.6760 - val_accuracy: 0.7000\n",
            "Epoch 8/50\n",
            "11/11 [==============================] - 42s 4s/step - loss: 0.0861 - accuracy: 0.9878 - val_loss: 1.6399 - val_accuracy: 0.7400\n",
            "Epoch 9/50\n",
            "11/11 [==============================] - 39s 4s/step - loss: 0.1070 - accuracy: 0.9878 - val_loss: 1.5783 - val_accuracy: 0.6600\n",
            "Epoch 10/50\n",
            "11/11 [==============================] - 43s 4s/step - loss: 0.0772 - accuracy: 0.9908 - val_loss: 1.4904 - val_accuracy: 0.7600\n",
            "Epoch 11/50\n",
            "11/11 [==============================] - 37s 3s/step - loss: 0.0576 - accuracy: 0.9878 - val_loss: 1.3726 - val_accuracy: 0.8300\n",
            "Epoch 12/50\n",
            "11/11 [==============================] - 36s 3s/step - loss: 0.0587 - accuracy: 0.9908 - val_loss: 1.3034 - val_accuracy: 0.7900\n",
            "Epoch 13/50\n",
            "11/11 [==============================] - 37s 3s/step - loss: 0.0815 - accuracy: 0.9908 - val_loss: 1.2739 - val_accuracy: 0.8500\n",
            "Epoch 14/50\n",
            "11/11 [==============================] - 36s 3s/step - loss: 0.0626 - accuracy: 0.9939 - val_loss: 1.1553 - val_accuracy: 0.8600\n",
            "Epoch 15/50\n",
            "11/11 [==============================] - 38s 3s/step - loss: 0.0555 - accuracy: 0.9908 - val_loss: 1.0954 - val_accuracy: 0.8700\n",
            "Epoch 16/50\n",
            "11/11 [==============================] - 37s 3s/step - loss: 0.0396 - accuracy: 0.9969 - val_loss: 0.9724 - val_accuracy: 0.8800\n",
            "Epoch 17/50\n",
            "11/11 [==============================] - 37s 4s/step - loss: 0.0452 - accuracy: 0.9939 - val_loss: 0.8549 - val_accuracy: 0.8900\n",
            "Epoch 18/50\n",
            "11/11 [==============================] - 36s 3s/step - loss: 0.0466 - accuracy: 0.9878 - val_loss: 0.8061 - val_accuracy: 0.8900\n",
            "Epoch 19/50\n",
            "11/11 [==============================] - 39s 4s/step - loss: 0.0463 - accuracy: 0.9939 - val_loss: 0.7373 - val_accuracy: 0.9000\n",
            "Epoch 20/50\n",
            "11/11 [==============================] - 42s 4s/step - loss: 0.0398 - accuracy: 0.9969 - val_loss: 0.6718 - val_accuracy: 0.8900\n",
            "Epoch 21/50\n",
            "11/11 [==============================] - 41s 4s/step - loss: 0.0301 - accuracy: 1.0000 - val_loss: 0.5837 - val_accuracy: 0.9100\n",
            "Epoch 22/50\n",
            "11/11 [==============================] - 40s 4s/step - loss: 0.0201 - accuracy: 0.9969 - val_loss: 0.5376 - val_accuracy: 0.9000\n",
            "Epoch 23/50\n",
            "11/11 [==============================] - 40s 4s/step - loss: 0.0274 - accuracy: 1.0000 - val_loss: 0.5048 - val_accuracy: 0.9100\n",
            "Epoch 24/50\n",
            "11/11 [==============================] - 40s 4s/step - loss: 0.0190 - accuracy: 1.0000 - val_loss: 0.4695 - val_accuracy: 0.9200\n",
            "Epoch 25/50\n",
            "11/11 [==============================] - 40s 4s/step - loss: 0.0867 - accuracy: 0.9847 - val_loss: 0.4891 - val_accuracy: 0.9100\n",
            "Epoch 26/50\n",
            "11/11 [==============================] - 40s 4s/step - loss: 0.0301 - accuracy: 0.9969 - val_loss: 0.3983 - val_accuracy: 0.9000\n",
            "Epoch 27/50\n",
            "11/11 [==============================] - 40s 4s/step - loss: 0.0246 - accuracy: 0.9969 - val_loss: 0.3712 - val_accuracy: 0.9200\n",
            "Epoch 28/50\n",
            "11/11 [==============================] - 40s 4s/step - loss: 0.0287 - accuracy: 0.9969 - val_loss: 0.3199 - val_accuracy: 0.9100\n",
            "Epoch 29/50\n",
            "11/11 [==============================] - 40s 4s/step - loss: 0.0240 - accuracy: 0.9969 - val_loss: 0.2898 - val_accuracy: 0.9100\n",
            "Epoch 30/50\n",
            "11/11 [==============================] - 40s 4s/step - loss: 0.0153 - accuracy: 1.0000 - val_loss: 0.2812 - val_accuracy: 0.9200\n",
            "Epoch 31/50\n",
            "11/11 [==============================] - 39s 3s/step - loss: 0.0107 - accuracy: 1.0000 - val_loss: 0.2655 - val_accuracy: 0.9200\n",
            "Epoch 32/50\n",
            "11/11 [==============================] - 38s 3s/step - loss: 0.0188 - accuracy: 0.9969 - val_loss: 0.2637 - val_accuracy: 0.9100\n",
            "Epoch 33/50\n",
            "11/11 [==============================] - 38s 3s/step - loss: 0.0191 - accuracy: 0.9969 - val_loss: 0.2483 - val_accuracy: 0.9100\n",
            "Epoch 34/50\n",
            "11/11 [==============================] - 38s 3s/step - loss: 0.0161 - accuracy: 1.0000 - val_loss: 0.2658 - val_accuracy: 0.9200\n",
            "Epoch 35/50\n",
            "11/11 [==============================] - 39s 4s/step - loss: 0.0179 - accuracy: 1.0000 - val_loss: 0.2411 - val_accuracy: 0.9100\n",
            "Epoch 36/50\n",
            "11/11 [==============================] - 38s 3s/step - loss: 0.0119 - accuracy: 1.0000 - val_loss: 0.2253 - val_accuracy: 0.9200\n",
            "Epoch 37/50\n",
            "11/11 [==============================] - 38s 3s/step - loss: 0.0134 - accuracy: 1.0000 - val_loss: 0.2217 - val_accuracy: 0.9200\n",
            "Epoch 38/50\n",
            "11/11 [==============================] - 39s 3s/step - loss: 0.0149 - accuracy: 0.9969 - val_loss: 0.2172 - val_accuracy: 0.9200\n",
            "Epoch 39/50\n",
            "11/11 [==============================] - 39s 3s/step - loss: 0.0107 - accuracy: 1.0000 - val_loss: 0.2174 - val_accuracy: 0.9200\n",
            "Epoch 40/50\n",
            "11/11 [==============================] - 38s 3s/step - loss: 0.0090 - accuracy: 1.0000 - val_loss: 0.2118 - val_accuracy: 0.9200\n",
            "Epoch 41/50\n",
            "11/11 [==============================] - 38s 3s/step - loss: 0.0108 - accuracy: 1.0000 - val_loss: 0.2102 - val_accuracy: 0.9300\n",
            "Epoch 42/50\n",
            "11/11 [==============================] - 38s 3s/step - loss: 0.0121 - accuracy: 1.0000 - val_loss: 0.2094 - val_accuracy: 0.9300\n",
            "Epoch 43/50\n",
            "11/11 [==============================] - 38s 3s/step - loss: 0.0114 - accuracy: 1.0000 - val_loss: 0.2073 - val_accuracy: 0.9200\n",
            "Epoch 44/50\n",
            "11/11 [==============================] - 38s 3s/step - loss: 0.0138 - accuracy: 1.0000 - val_loss: 0.1948 - val_accuracy: 0.9400\n",
            "Epoch 45/50\n",
            "11/11 [==============================] - 38s 3s/step - loss: 0.0138 - accuracy: 1.0000 - val_loss: 0.1735 - val_accuracy: 0.9400\n",
            "Epoch 46/50\n",
            "11/11 [==============================] - 38s 3s/step - loss: 0.0089 - accuracy: 1.0000 - val_loss: 0.1803 - val_accuracy: 0.9300\n",
            "Epoch 47/50\n",
            "11/11 [==============================] - 38s 3s/step - loss: 0.0093 - accuracy: 1.0000 - val_loss: 0.1782 - val_accuracy: 0.9300\n",
            "Epoch 48/50\n",
            "11/11 [==============================] - 38s 3s/step - loss: 0.0118 - accuracy: 1.0000 - val_loss: 0.1911 - val_accuracy: 0.9100\n",
            "Epoch 49/50\n",
            "11/11 [==============================] - 39s 4s/step - loss: 0.0077 - accuracy: 1.0000 - val_loss: 0.1843 - val_accuracy: 0.9300\n",
            "Epoch 50/50\n",
            "11/11 [==============================] - 41s 4s/step - loss: 0.0131 - accuracy: 0.9969 - val_loss: 0.1890 - val_accuracy: 0.9200\n"
          ]
        }
      ]
    },
    {
      "cell_type": "code",
      "metadata": {
        "id": "zoy6GEHfuxaM"
      },
      "source": [
        "y_predict_prob = model_reg.predict(X_test)\n",
        "y_predict = y_predict_prob.argmax(axis=-1)"
      ],
      "execution_count": null,
      "outputs": []
    },
    {
      "cell_type": "code",
      "metadata": {
        "colab": {
          "base_uri": "https://localhost:8080/"
        },
        "id": "sjcdjxenzjHt",
        "outputId": "ae4cdb0c-73c6-4ddc-a998-ac5182b4353d"
      },
      "source": [
        "from sklearn.metrics import confusion_matrix\n",
        "conf_mx = confusion_matrix(y_test, y_predict)\n",
        "conf_mx"
      ],
      "execution_count": null,
      "outputs": [
        {
          "data": {
            "text/plain": [
              "array([[ 6,  0,  0,  0,  0,  4,  0,  0,  0,  0],\n",
              "       [ 0, 10,  0,  0,  0,  0,  0,  0,  0,  0],\n",
              "       [ 1,  0,  9,  0,  0,  0,  0,  0,  0,  0],\n",
              "       [ 0,  0,  0, 10,  0,  0,  0,  0,  0,  0],\n",
              "       [ 0,  0,  0,  0, 10,  0,  0,  0,  0,  0],\n",
              "       [ 0,  0,  0,  0,  0,  8,  0,  0,  0,  2],\n",
              "       [ 0,  0,  0,  0,  0,  0, 10,  0,  0,  0],\n",
              "       [ 0,  0,  0,  0,  0,  0,  0, 10,  0,  0],\n",
              "       [ 0,  0,  0,  0,  0, 10,  0,  0,  0,  0],\n",
              "       [ 0,  0,  0,  0,  0,  0,  0,  0,  0, 10]])"
            ]
          },
          "execution_count": 21,
          "metadata": {},
          "output_type": "execute_result"
        }
      ]
    },
    {
      "cell_type": "code",
      "metadata": {
        "colab": {
          "base_uri": "https://localhost:8080/",
          "height": 476
        },
        "id": "FQonqCLbu3Ql",
        "outputId": "7da6fce4-ef9b-46eb-d70d-943887e43041"
      },
      "source": [
        "row_sums = conf_mx.sum(axis=1, keepdims=True)\n",
        "norm_conf_mx = conf_mx / row_sums\n",
        "np.fill_diagonal(norm_conf_mx, 0)\n",
        "# plt.matshow(norm_conf_mx, cmap=plt.cm.gray)\n",
        "plot_confusion_matrix(norm_conf_mx)\n",
        "plt.show()\n"
      ],
      "execution_count": null,
      "outputs": [
        {
          "data": {
            "image/png": "[encoded data removed]",
            "text/plain": [
              "<Figure size 576x576 with 2 Axes>"
            ]
          },
          "metadata": {},
          "output_type": "display_data"
        }
      ]
    },
    {
      "cell_type": "code",
      "metadata": {
        "colab": {
          "base_uri": "https://localhost:8080/"
        },
        "id": "HD2c249Ou7DB",
        "outputId": "654135d8-0127-4e10-e445-1025ed6a7493"
      },
      "source": [
        "print(classification_report(y_test, y_predict))"
      ],
      "execution_count": null,
      "outputs": [
        {
          "name": "stdout",
          "output_type": "stream",
          "text": [
            "              precision    recall  f1-score   support\n",
            "\n",
            "           0       0.86      0.60      0.71        10\n",
            "           1       1.00      1.00      1.00        10\n",
            "           2       1.00      0.90      0.95        10\n",
            "           3       1.00      1.00      1.00        10\n",
            "           4       1.00      1.00      1.00        10\n",
            "           5       0.36      0.80      0.50        10\n",
            "           6       1.00      1.00      1.00        10\n",
            "           7       1.00      1.00      1.00        10\n",
            "           8       0.00      0.00      0.00        10\n",
            "           9       0.83      1.00      0.91        10\n",
            "\n",
            "    accuracy                           0.83       100\n",
            "   macro avg       0.81      0.83      0.81       100\n",
            "weighted avg       0.81      0.83      0.81       100\n",
            "\n"
          ]
        },
        {
          "name": "stderr",
          "output_type": "stream",
          "text": [
            "/usr/local/lib/python3.7/dist-packages/sklearn/metrics/_classification.py:1308: UndefinedMetricWarning: Precision and F-score are ill-defined and being set to 0.0 in labels with no predicted samples. Use `zero_division` parameter to control this behavior.\n",
            "  _warn_prf(average, modifier, msg_start, len(result))\n",
            "/usr/local/lib/python3.7/dist-packages/sklearn/metrics/_classification.py:1308: UndefinedMetricWarning: Precision and F-score are ill-defined and being set to 0.0 in labels with no predicted samples. Use `zero_division` parameter to control this behavior.\n",
            "  _warn_prf(average, modifier, msg_start, len(result))\n",
            "/usr/local/lib/python3.7/dist-packages/sklearn/metrics/_classification.py:1308: UndefinedMetricWarning: Precision and F-score are ill-defined and being set to 0.0 in labels with no predicted samples. Use `zero_division` parameter to control this behavior.\n",
            "  _warn_prf(average, modifier, msg_start, len(result))\n"
          ]
        }
      ]
    },
    {
      "cell_type": "code",
      "metadata": {
        "colab": {
          "base_uri": "https://localhost:8080/",
          "height": 295
        },
        "id": "0umvU0Q0u7E9",
        "outputId": "d7bb7626-716c-49ac-ba21-66ea5d9ee487"
      },
      "source": [
        "k = ''\n",
        "if 'accuracy' in history.history :\n",
        "    k = 'accuracy'    \n",
        "\n",
        "if 'acc' in history.history :\n",
        "    k = 'acc'\n",
        "    \n",
        "if k != '' :    \n",
        "    plt.plot(history.history[k])\n",
        "    plt.plot(history.history['val_'+k])\n",
        "    plt.title('Model Accuracy')\n",
        "    plt.ylabel('Accuracy')\n",
        "    plt.xlabel('Epoch')\n",
        "    plt.legend(['train', 'test'], loc='upper left')\n",
        "    plt.show()"
      ],
      "execution_count": null,
      "outputs": [
        {
          "data": {
            "image/png": "[encoded data removed]",
            "text/plain": [
              "<Figure size 432x288 with 1 Axes>"
            ]
          },
          "metadata": {},
          "output_type": "display_data"
        }
      ]
    },
    {
      "cell_type": "code",
      "metadata": {
        "colab": {
          "base_uri": "https://localhost:8080/",
          "height": 295
        },
        "id": "7gY_XvPSvAr7",
        "outputId": "742a55f2-5b6d-4507-a7c6-09f71686753b"
      },
      "source": [
        "plt.plot(history.history['loss'])\n",
        "plt.plot(history.history['val_loss'])\n",
        "plt.title('Model loss')\n",
        "plt.ylabel('Loss')\n",
        "plt.xlabel('Epoch')\n",
        "plt.legend(['train', 'test'], loc='upper left')\n",
        "plt.show()\n",
        "\n"
      ],
      "execution_count": null,
      "outputs": [
        {
          "data": {
            "image/png": "[encoded data removed]",
            "text/plain": [
              "<Figure size 432x288 with 1 Axes>"
            ]
          },
          "metadata": {},
          "output_type": "display_data"
        }
      ]
    },
    {
      "cell_type": "markdown",
      "metadata": {
        "id": "srWZL0PHJVgf"
      },
      "source": [
        "# References\n",
        "[1] https://machinelearningmastery.com/how-to-use-transfer-learning-when-developing-convolutional-neural-network-models/<br>\n",
        "[2] https://keras.io/api/applications/vgg/ <br>\n",
        "[3] https://towardsdatascience.com/learning-curve-to-identify-overfitting-underfitting-problems-133177f38df5<br>\n",
        "[4] https://machinelearningmastery.com/how-to-configure-image-data-augmentation-when-training-deep-learning-neural-networks/<br>"
      ]
    },
    {
      "cell_type": "code",
      "metadata": {
        "id": "tt2mNfCvecMI"
      },
      "source": [
        ""
      ],
      "execution_count": null,
      "outputs": []
    },
    {
      "cell_type": "code",
      "metadata": {
        "id": "AZWZ1vKUJWvB"
      },
      "source": [
        ""
      ],
      "execution_count": null,
      "outputs": []
    }
  ]
}