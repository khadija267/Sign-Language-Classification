{
  "nbformat": 4,
  "nbformat_minor": 0,
  "metadata": {
    "colab": {
      "name": "VGG19.ipynb",
      "provenance": [],
      "include_colab_link": true
    },
    "kernelspec": {
      "display_name": "Python 3",
      "name": "python3"
    },
    "language_info": {
      "name": "python"
    },
    "accelerator": "GPU"
  },
  "cells": [
    {
      "cell_type": "markdown",
      "metadata": {
        "id": "view-in-github",
        "colab_type": "text"
      },
      "source": [
        "<a href=\"https://colab.research.google.com/github/khadija267/Sign-Language-Classification/blob/main/VGG19.ipynb\" target=\"_parent\"><img src=\"https://colab.research.google.com/assets/colab-badge.svg\" alt=\"Open In Colab\"/></a>"
      ]
    },
    {
      "cell_type": "markdown",
      "metadata": {
        "id": "VDDguPiLJxZn"
      },
      "source": [
        "# Load Data"
      ]
    },
    {
      "cell_type": "code",
      "metadata": {
        "colab": {
          "base_uri": "https://localhost:8080/"
        },
        "id": "D-ca-JQxJzUA",
        "outputId": "65ef2a63-b661-4766-9b45-9d231f9638ec"
      },
      "source": [
        "# import important libraries\n",
        "import PIL\n",
        "import os\n",
        "from PIL import Image\n",
        "import os\n",
        "import skimage.io as skio\n",
        "from skimage.transform import resize\n",
        "import numpy as np\n",
        "import pandas as pd\n",
        "# import colab drive to access my drive and the data uploaded there.\n",
        "from google.colab import drive\n",
        "drive.mount('/content/drive')\n",
        "# get the location of the data\n",
        "location = r'/content/drive/MyDrive/CVProjectDataset'\n",
        "# make array of the classes of the data\n",
        "classes=['Call me','Dislike','Goodjob','Good luck','I love you','OK','Peace','Power','Talk to the hand','You']\n",
        "# make a list of the folders that contain the data\n",
        "folders=['Train','Test','Validation']\n",
        "# make empty lists to append to them each image\n",
        "X_train=[]\n",
        "X_test=[]\n",
        "X_valid=[]\n",
        "y_train=[]\n",
        "y_test=[]\n",
        "y_valid=[]\n",
        "train_df=[]\n",
        "# for looping the folders and making a train, validation, and test images arrays\n",
        "for ind,it in enumerate(classes):\n",
        "    for ind_1 , it_1 in enumerate(folders):\n",
        "        for filex in os.listdir(location+\"/\"+it+\"/\"+it_1):\n",
        "            if it_1=='Train':\n",
        "                f_img = location+\"/\"+it+\"/\"+it_1+\"/\"+filex\n",
        "                img = skio.imread(f_img)\n",
        "                img = resize(img,(40,32))\n",
        "                X_train.append(img)\n",
        "                y_train.append(ind)\n",
        "                train_df.append(img.flatten())\n",
        "\n",
        "            elif it_1=='Test':\n",
        "                f_img =location+\"/\"+it+\"/\"+it_1+\"/\"+filex\n",
        "                img = skio.imread(f_img)\n",
        "                img = resize(img,(40,32))\n",
        "                X_test.append(img)\n",
        "                y_test.append(ind)\n",
        "\n",
        "\n",
        "            elif it_1=='Validation':\n",
        "                f_img = location+\"/\"+it+\"/\"+it_1+\"/\"+filex\n",
        "                img = skio.imread(f_img)\n",
        "                img = resize(img,(40,32))\n",
        "                X_valid.append(img)\n",
        "                y_valid.append(ind)\n",
        "\n",
        "            else:\n",
        "                print(\"The destination file does not exist!\")\n",
        "\n",
        "\n",
        "# make a df for the data if needed in the further steps\n",
        "df=pd.DataFrame(train_df)\n",
        "df['Class']=y_train"
      ],
      "execution_count": 1,
      "outputs": [
        {
          "output_type": "stream",
          "name": "stdout",
          "text": [
            "Mounted at /content/drive\n"
          ]
        }
      ]
    },
    {
      "cell_type": "markdown",
      "metadata": {
        "id": "7xM_bz-qEssg"
      },
      "source": [
        "Make sure of the data size"
      ]
    },
    {
      "cell_type": "code",
      "metadata": {
        "colab": {
          "base_uri": "https://localhost:8080/"
        },
        "id": "iuDYFJnhVqf5",
        "outputId": "7a46cbde-868e-4e75-f3e5-72d1a8d9bc14"
      },
      "source": [
        "len(X_train[0][0])"
      ],
      "execution_count": null,
      "outputs": [
        {
          "data": {
            "text/plain": [
              "32"
            ]
          },
          "execution_count": 3,
          "metadata": {},
          "output_type": "execute_result"
        }
      ]
    },
    {
      "cell_type": "code",
      "metadata": {
        "colab": {
          "base_uri": "https://localhost:8080/"
        },
        "id": "qvxNutABkdgl",
        "outputId": "9ebd42be-a91a-432b-dccf-1b2f891d893e"
      },
      "source": [
        "len(X_train)"
      ],
      "execution_count": null,
      "outputs": [
        {
          "data": {
            "text/plain": [
              "327"
            ]
          },
          "execution_count": 4,
          "metadata": {},
          "output_type": "execute_result"
        }
      ]
    },
    {
      "cell_type": "code",
      "metadata": {
        "colab": {
          "base_uri": "https://localhost:8080/"
        },
        "id": "rB5s9DY5Hd6l",
        "outputId": "3066267e-45ae-42c8-cac6-bb2bd25729a2"
      },
      "source": [
        "len(X_test)"
      ],
      "execution_count": null,
      "outputs": [
        {
          "data": {
            "text/plain": [
              "100"
            ]
          },
          "execution_count": 5,
          "metadata": {},
          "output_type": "execute_result"
        }
      ]
    },
    {
      "cell_type": "code",
      "metadata": {
        "colab": {
          "base_uri": "https://localhost:8080/"
        },
        "id": "qkGFtnAtHgOe",
        "outputId": "226250d8-b5c9-40ef-a29b-5dc0132e7e71"
      },
      "source": [
        "len(X_valid)"
      ],
      "execution_count": null,
      "outputs": [
        {
          "data": {
            "text/plain": [
              "100"
            ]
          },
          "execution_count": 6,
          "metadata": {},
          "output_type": "execute_result"
        }
      ]
    },
    {
      "cell_type": "code",
      "metadata": {
        "colab": {
          "base_uri": "https://localhost:8080/"
        },
        "id": "AHXitG45VuPO",
        "outputId": "cc5239cc-6ba5-4eed-a214-f5fd2cd22234"
      },
      "source": [
        "len(y_train)"
      ],
      "execution_count": null,
      "outputs": [
        {
          "data": {
            "text/plain": [
              "327"
            ]
          },
          "execution_count": 7,
          "metadata": {},
          "output_type": "execute_result"
        }
      ]
    },
    {
      "cell_type": "markdown",
      "metadata": {
        "id": "Ak235guBEwOW"
      },
      "source": [
        "convert the list into a numpy array that is used in further modeling"
      ]
    },
    {
      "cell_type": "code",
      "metadata": {
        "id": "ExrY5RNJlydv"
      },
      "source": [
        "y_train = np.asarray(y_train)\n",
        "y_test = np.asarray(y_test)\n",
        "X_train = np.asarray(X_train)\n",
        "X_test = np.asarray(X_test) \n"
      ],
      "execution_count": 2,
      "outputs": []
    },
    {
      "cell_type": "markdown",
      "metadata": {
        "id": "CI4eXiUrJk1B"
      },
      "source": [
        "# VGG16 Model Baseline"
      ]
    },
    {
      "cell_type": "code",
      "metadata": {
        "colab": {
          "base_uri": "https://localhost:8080/"
        },
        "id": "LIX19fqhJnCa",
        "outputId": "2a5b3417-2ee2-4640-dfd6-994b2fee15f3"
      },
      "source": [
        "# import keras from tensorflow as needed to import the vgg16 model\n",
        "from tensorflow.keras.applications.vgg19 import VGG19\n",
        "from tensorflow.keras.applications.vgg19 import preprocess_input\n",
        "from keras.models import Model\n",
        "from keras.layers import Dense, Activation, Flatten\n",
        "# load model without classifier layers\n",
        "model = VGG19(include_top=False, input_shape=X_train[0].shape)\n",
        "# add new classifier layers\n",
        "flat1 = Flatten()(model.layers[-1].output)\n",
        "class1 = Dense(1024, activation='relu')(flat1)\n",
        "output = Dense(10, activation='softmax')(class1)\n",
        "# define new model\n",
        "model = Model(inputs=model.inputs, outputs=output)\n",
        "# summarize\n",
        "model.summary()"
      ],
      "execution_count": 4,
      "outputs": [
        {
          "output_type": "stream",
          "name": "stdout",
          "text": [
            "Downloading data from https://storage.googleapis.com/tensorflow/keras-applications/vgg19/vgg19_weights_tf_dim_ordering_tf_kernels_notop.h5\n",
            "80142336/80134624 [==============================] - 0s 0us/step\n",
            "80150528/80134624 [==============================] - 0s 0us/step\n",
            "Model: \"model\"\n",
            "_________________________________________________________________\n",
            " Layer (type)                Output Shape              Param #   \n",
            "=================================================================\n",
            " input_1 (InputLayer)        [(None, 40, 32, 3)]       0         \n",
            "                                                                 \n",
            " block1_conv1 (Conv2D)       (None, 40, 32, 64)        1792      \n",
            "                                                                 \n",
            " block1_conv2 (Conv2D)       (None, 40, 32, 64)        36928     \n",
            "                                                                 \n",
            " block1_pool (MaxPooling2D)  (None, 20, 16, 64)        0         \n",
            "                                                                 \n",
            " block2_conv1 (Conv2D)       (None, 20, 16, 128)       73856     \n",
            "                                                                 \n",
            " block2_conv2 (Conv2D)       (None, 20, 16, 128)       147584    \n",
            "                                                                 \n",
            " block2_pool (MaxPooling2D)  (None, 10, 8, 128)        0         \n",
            "                                                                 \n",
            " block3_conv1 (Conv2D)       (None, 10, 8, 256)        295168    \n",
            "                                                                 \n",
            " block3_conv2 (Conv2D)       (None, 10, 8, 256)        590080    \n",
            "                                                                 \n",
            " block3_conv3 (Conv2D)       (None, 10, 8, 256)        590080    \n",
            "                                                                 \n",
            " block3_conv4 (Conv2D)       (None, 10, 8, 256)        590080    \n",
            "                                                                 \n",
            " block3_pool (MaxPooling2D)  (None, 5, 4, 256)         0         \n",
            "                                                                 \n",
            " block4_conv1 (Conv2D)       (None, 5, 4, 512)         1180160   \n",
            "                                                                 \n",
            " block4_conv2 (Conv2D)       (None, 5, 4, 512)         2359808   \n",
            "                                                                 \n",
            " block4_conv3 (Conv2D)       (None, 5, 4, 512)         2359808   \n",
            "                                                                 \n",
            " block4_conv4 (Conv2D)       (None, 5, 4, 512)         2359808   \n",
            "                                                                 \n",
            " block4_pool (MaxPooling2D)  (None, 2, 2, 512)         0         \n",
            "                                                                 \n",
            " block5_conv1 (Conv2D)       (None, 2, 2, 512)         2359808   \n",
            "                                                                 \n",
            " block5_conv2 (Conv2D)       (None, 2, 2, 512)         2359808   \n",
            "                                                                 \n",
            " block5_conv3 (Conv2D)       (None, 2, 2, 512)         2359808   \n",
            "                                                                 \n",
            " block5_conv4 (Conv2D)       (None, 2, 2, 512)         2359808   \n",
            "                                                                 \n",
            " block5_pool (MaxPooling2D)  (None, 1, 1, 512)         0         \n",
            "                                                                 \n",
            " flatten (Flatten)           (None, 512)               0         \n",
            "                                                                 \n",
            " dense (Dense)               (None, 1024)              525312    \n",
            "                                                                 \n",
            " dense_1 (Dense)             (None, 10)                10250     \n",
            "                                                                 \n",
            "=================================================================\n",
            "Total params: 20,559,946\n",
            "Trainable params: 20,559,946\n",
            "Non-trainable params: 0\n",
            "_________________________________________________________________\n"
          ]
        }
      ]
    },
    {
      "cell_type": "code",
      "metadata": {
        "colab": {
          "base_uri": "https://localhost:8080/"
        },
        "id": "KFUNTjL9b4xa",
        "outputId": "7080e865-1a70-4e86-b29c-267740addded"
      },
      "source": [
        "import tensorflow.keras\n",
        "y_train_k = tensorflow.keras.utils.to_categorical(y_train, num_classes=10)\n",
        "y_test_k = tensorflow.keras.utils.to_categorical(y_test, num_classes=10)\n",
        "\n",
        "sgd = tensorflow.keras.optimizers.SGD(lr=0.0008)\n",
        "model.compile(loss='categorical_crossentropy', \n",
        "                           optimizer=sgd, \n",
        "                           metrics=['accuracy'])\n",
        "\n",
        "\n",
        "history = model.fit(X_train, y_train_k, batch_size=128, epochs=50, verbose=1, \n",
        "                                 validation_data=(X_test, y_test_k))"
      ],
      "execution_count": 5,
      "outputs": [
        {
          "output_type": "stream",
          "name": "stdout",
          "text": [
            "Epoch 1/50\n"
          ]
        },
        {
          "output_type": "stream",
          "name": "stderr",
          "text": [
            "/usr/local/lib/python3.7/dist-packages/keras/optimizer_v2/gradient_descent.py:102: UserWarning: The `lr` argument is deprecated, use `learning_rate` instead.\n",
            "  super(SGD, self).__init__(name, **kwargs)\n"
          ]
        },
        {
          "output_type": "stream",
          "name": "stdout",
          "text": [
            "3/3 [==============================] - 16s 1s/step - loss: 2.3343 - accuracy: 0.0336 - val_loss: 2.2946 - val_accuracy: 0.0300\n",
            "Epoch 2/50\n",
            "3/3 [==============================] - 0s 87ms/step - loss: 2.2671 - accuracy: 0.0398 - val_loss: 2.2495 - val_accuracy: 0.0300\n",
            "Epoch 3/50\n",
            "3/3 [==============================] - 0s 88ms/step - loss: 2.2032 - accuracy: 0.0979 - val_loss: 2.2052 - val_accuracy: 0.2000\n",
            "Epoch 4/50\n",
            "3/3 [==============================] - 0s 87ms/step - loss: 2.1449 - accuracy: 0.2477 - val_loss: 2.1626 - val_accuracy: 0.2700\n",
            "Epoch 5/50\n",
            "3/3 [==============================] - 0s 88ms/step - loss: 2.0907 - accuracy: 0.2752 - val_loss: 2.1181 - val_accuracy: 0.2900\n",
            "Epoch 6/50\n",
            "3/3 [==============================] - 0s 86ms/step - loss: 2.0340 - accuracy: 0.3089 - val_loss: 2.0742 - val_accuracy: 0.3000\n",
            "Epoch 7/50\n",
            "3/3 [==============================] - 0s 86ms/step - loss: 1.9791 - accuracy: 0.3517 - val_loss: 2.0286 - val_accuracy: 0.3500\n",
            "Epoch 8/50\n",
            "3/3 [==============================] - 0s 85ms/step - loss: 1.9230 - accuracy: 0.4037 - val_loss: 1.9760 - val_accuracy: 0.3700\n",
            "Epoch 9/50\n",
            "3/3 [==============================] - 0s 88ms/step - loss: 1.8648 - accuracy: 0.4587 - val_loss: 1.9216 - val_accuracy: 0.4300\n",
            "Epoch 10/50\n",
            "3/3 [==============================] - 0s 88ms/step - loss: 1.8041 - accuracy: 0.5321 - val_loss: 1.8636 - val_accuracy: 0.4500\n",
            "Epoch 11/50\n",
            "3/3 [==============================] - 0s 87ms/step - loss: 1.7375 - accuracy: 0.6116 - val_loss: 1.7974 - val_accuracy: 0.4600\n",
            "Epoch 12/50\n",
            "3/3 [==============================] - 0s 88ms/step - loss: 1.6601 - accuracy: 0.6453 - val_loss: 1.7287 - val_accuracy: 0.4800\n",
            "Epoch 13/50\n",
            "3/3 [==============================] - 0s 87ms/step - loss: 1.5730 - accuracy: 0.6911 - val_loss: 1.6390 - val_accuracy: 0.5000\n",
            "Epoch 14/50\n",
            "3/3 [==============================] - 0s 86ms/step - loss: 1.4814 - accuracy: 0.6972 - val_loss: 1.5512 - val_accuracy: 0.4900\n",
            "Epoch 15/50\n",
            "3/3 [==============================] - 0s 89ms/step - loss: 1.3737 - accuracy: 0.7064 - val_loss: 1.4425 - val_accuracy: 0.5100\n",
            "Epoch 16/50\n",
            "3/3 [==============================] - 0s 89ms/step - loss: 1.2583 - accuracy: 0.7248 - val_loss: 1.3479 - val_accuracy: 0.6400\n",
            "Epoch 17/50\n",
            "3/3 [==============================] - 0s 88ms/step - loss: 1.1631 - accuracy: 0.8012 - val_loss: 1.2516 - val_accuracy: 0.6800\n",
            "Epoch 18/50\n",
            "3/3 [==============================] - 0s 87ms/step - loss: 1.0628 - accuracy: 0.8410 - val_loss: 1.1114 - val_accuracy: 0.6700\n",
            "Epoch 19/50\n",
            "3/3 [==============================] - 0s 91ms/step - loss: 0.9403 - accuracy: 0.8563 - val_loss: 1.0123 - val_accuracy: 0.7500\n",
            "Epoch 20/50\n",
            "3/3 [==============================] - 0s 87ms/step - loss: 0.8492 - accuracy: 0.8624 - val_loss: 0.9737 - val_accuracy: 0.7200\n",
            "Epoch 21/50\n",
            "3/3 [==============================] - 0s 85ms/step - loss: 0.8466 - accuracy: 0.8318 - val_loss: 0.8933 - val_accuracy: 0.7500\n",
            "Epoch 22/50\n",
            "3/3 [==============================] - 0s 88ms/step - loss: 0.6762 - accuracy: 0.9235 - val_loss: 0.7627 - val_accuracy: 0.7700\n",
            "Epoch 23/50\n",
            "3/3 [==============================] - 0s 91ms/step - loss: 0.5670 - accuracy: 0.9450 - val_loss: 0.6458 - val_accuracy: 0.8500\n",
            "Epoch 24/50\n",
            "3/3 [==============================] - 0s 87ms/step - loss: 0.4613 - accuracy: 0.9450 - val_loss: 0.6081 - val_accuracy: 0.8500\n",
            "Epoch 25/50\n",
            "3/3 [==============================] - 0s 87ms/step - loss: 0.4081 - accuracy: 0.9480 - val_loss: 0.5594 - val_accuracy: 0.8200\n",
            "Epoch 26/50\n",
            "3/3 [==============================] - 0s 86ms/step - loss: 0.3721 - accuracy: 0.9511 - val_loss: 0.5711 - val_accuracy: 0.8900\n",
            "Epoch 27/50\n",
            "3/3 [==============================] - 0s 86ms/step - loss: 0.3540 - accuracy: 0.9450 - val_loss: 0.4632 - val_accuracy: 0.8700\n",
            "Epoch 28/50\n",
            "3/3 [==============================] - 0s 87ms/step - loss: 0.2785 - accuracy: 0.9572 - val_loss: 0.4238 - val_accuracy: 0.8900\n",
            "Epoch 29/50\n",
            "3/3 [==============================] - 0s 88ms/step - loss: 0.2701 - accuracy: 0.9450 - val_loss: 0.4126 - val_accuracy: 0.8700\n",
            "Epoch 30/50\n",
            "3/3 [==============================] - 0s 87ms/step - loss: 0.2284 - accuracy: 0.9633 - val_loss: 0.4069 - val_accuracy: 0.8900\n",
            "Epoch 31/50\n",
            "3/3 [==============================] - 0s 88ms/step - loss: 0.2082 - accuracy: 0.9602 - val_loss: 0.3559 - val_accuracy: 0.8900\n",
            "Epoch 32/50\n",
            "3/3 [==============================] - 0s 87ms/step - loss: 0.2354 - accuracy: 0.9297 - val_loss: 0.6647 - val_accuracy: 0.7400\n",
            "Epoch 33/50\n",
            "3/3 [==============================] - 0s 87ms/step - loss: 0.5262 - accuracy: 0.8196 - val_loss: 0.7137 - val_accuracy: 0.7500\n",
            "Epoch 34/50\n",
            "3/3 [==============================] - 0s 89ms/step - loss: 0.2786 - accuracy: 0.9419 - val_loss: 0.3299 - val_accuracy: 0.9400\n",
            "Epoch 35/50\n",
            "3/3 [==============================] - 0s 86ms/step - loss: 0.1761 - accuracy: 0.9572 - val_loss: 0.3134 - val_accuracy: 0.9000\n",
            "Epoch 36/50\n",
            "3/3 [==============================] - 0s 88ms/step - loss: 0.1347 - accuracy: 0.9755 - val_loss: 0.3029 - val_accuracy: 0.9200\n",
            "Epoch 37/50\n",
            "3/3 [==============================] - 0s 87ms/step - loss: 0.1340 - accuracy: 0.9725 - val_loss: 0.3129 - val_accuracy: 0.8800\n",
            "Epoch 38/50\n",
            "3/3 [==============================] - 0s 88ms/step - loss: 0.1199 - accuracy: 0.9817 - val_loss: 0.3300 - val_accuracy: 0.8500\n",
            "Epoch 39/50\n",
            "3/3 [==============================] - 0s 105ms/step - loss: 0.1219 - accuracy: 0.9755 - val_loss: 0.2548 - val_accuracy: 0.9300\n",
            "Epoch 40/50\n",
            "3/3 [==============================] - 0s 87ms/step - loss: 0.0969 - accuracy: 0.9939 - val_loss: 0.2484 - val_accuracy: 0.9300\n",
            "Epoch 41/50\n",
            "3/3 [==============================] - 0s 88ms/step - loss: 0.0921 - accuracy: 0.9878 - val_loss: 0.2658 - val_accuracy: 0.8900\n",
            "Epoch 42/50\n",
            "3/3 [==============================] - 0s 87ms/step - loss: 0.0945 - accuracy: 0.9908 - val_loss: 0.2295 - val_accuracy: 0.9400\n",
            "Epoch 43/50\n",
            "3/3 [==============================] - 0s 86ms/step - loss: 0.0964 - accuracy: 0.9817 - val_loss: 0.2800 - val_accuracy: 0.8900\n",
            "Epoch 44/50\n",
            "3/3 [==============================] - 0s 87ms/step - loss: 0.0824 - accuracy: 0.9847 - val_loss: 0.2295 - val_accuracy: 0.9400\n",
            "Epoch 45/50\n",
            "3/3 [==============================] - 0s 88ms/step - loss: 0.0689 - accuracy: 0.9939 - val_loss: 0.2311 - val_accuracy: 0.9300\n",
            "Epoch 46/50\n",
            "3/3 [==============================] - 0s 89ms/step - loss: 0.0651 - accuracy: 0.9939 - val_loss: 0.2710 - val_accuracy: 0.9000\n",
            "Epoch 47/50\n",
            "3/3 [==============================] - 0s 87ms/step - loss: 0.0657 - accuracy: 0.9908 - val_loss: 0.2061 - val_accuracy: 0.9400\n",
            "Epoch 48/50\n",
            "3/3 [==============================] - 0s 87ms/step - loss: 0.0573 - accuracy: 0.9939 - val_loss: 0.2041 - val_accuracy: 0.9400\n",
            "Epoch 49/50\n",
            "3/3 [==============================] - 0s 89ms/step - loss: 0.0545 - accuracy: 0.9969 - val_loss: 0.2116 - val_accuracy: 0.9400\n",
            "Epoch 50/50\n",
            "3/3 [==============================] - 0s 87ms/step - loss: 0.0514 - accuracy: 0.9939 - val_loss: 0.2101 - val_accuracy: 0.9300\n"
          ]
        }
      ]
    },
    {
      "cell_type": "code",
      "metadata": {
        "colab": {
          "base_uri": "https://localhost:8080/"
        },
        "id": "ee9B_yV4vTcm",
        "outputId": "a64031e4-56f5-403c-e729-765d541c77ed"
      },
      "source": [
        "history.history['accuracy']"
      ],
      "execution_count": 6,
      "outputs": [
        {
          "output_type": "execute_result",
          "data": {
            "text/plain": [
              "[0.03363914415240288,\n",
              " 0.03975535184144974,\n",
              " 0.09785933047533035,\n",
              " 0.24770642817020416,\n",
              " 0.2752293646335602,\n",
              " 0.30886849761009216,\n",
              " 0.3516819477081299,\n",
              " 0.40366971492767334,\n",
              " 0.4587155878543854,\n",
              " 0.5321100950241089,\n",
              " 0.6116207838058472,\n",
              " 0.6452599167823792,\n",
              " 0.6911314725875854,\n",
              " 0.6972476840019226,\n",
              " 0.7064220309257507,\n",
              " 0.7247706651687622,\n",
              " 0.8012232184410095,\n",
              " 0.8409786224365234,\n",
              " 0.856269121170044,\n",
              " 0.8623853325843811,\n",
              " 0.8318042755126953,\n",
              " 0.9235473871231079,\n",
              " 0.9449541568756104,\n",
              " 0.9449541568756104,\n",
              " 0.9480122327804565,\n",
              " 0.9510703086853027,\n",
              " 0.9449541568756104,\n",
              " 0.9571865200996399,\n",
              " 0.9449541568756104,\n",
              " 0.963302731513977,\n",
              " 0.9602446556091309,\n",
              " 0.9296635985374451,\n",
              " 0.819571852684021,\n",
              " 0.9418960213661194,\n",
              " 0.9571865200996399,\n",
              " 0.9755351543426514,\n",
              " 0.9724770784378052,\n",
              " 0.9816513657569885,\n",
              " 0.9755351543426514,\n",
              " 0.9938837885856628,\n",
              " 0.9877675771713257,\n",
              " 0.9908257126808167,\n",
              " 0.9816513657569885,\n",
              " 0.9847095012664795,\n",
              " 0.9938837885856628,\n",
              " 0.9938837885856628,\n",
              " 0.9908257126808167,\n",
              " 0.9938837885856628,\n",
              " 0.9969419240951538,\n",
              " 0.9938837885856628]"
            ]
          },
          "metadata": {},
          "execution_count": 6
        }
      ]
    },
    {
      "cell_type": "code",
      "metadata": {
        "id": "ZC1pUUkkziE-"
      },
      "source": [
        "y_predict_prob = model.predict(X_test)\n",
        "y_predict = y_predict_prob.argmax(axis=-1)"
      ],
      "execution_count": 7,
      "outputs": []
    },
    {
      "cell_type": "code",
      "metadata": {
        "colab": {
          "base_uri": "https://localhost:8080/"
        },
        "id": "W9t9GhiLx1Ug",
        "outputId": "0d16c226-692c-4e39-c2b6-5c1bcc291e13"
      },
      "source": [
        "from sklearn.metrics import confusion_matrix\n",
        "conf_mx = confusion_matrix(y_test, y_predict)\n",
        "conf_mx"
      ],
      "execution_count": 8,
      "outputs": [
        {
          "output_type": "execute_result",
          "data": {
            "text/plain": [
              "array([[ 7,  0,  0,  0,  0,  0,  0,  3,  0,  0],\n",
              "       [ 0, 10,  0,  0,  0,  0,  0,  0,  0,  0],\n",
              "       [ 0,  1,  9,  0,  0,  0,  0,  0,  0,  0],\n",
              "       [ 0,  0,  0, 10,  0,  0,  0,  0,  0,  0],\n",
              "       [ 0,  0,  0,  0, 10,  0,  0,  0,  0,  0],\n",
              "       [ 2,  0,  0,  0,  0,  8,  0,  0,  0,  0],\n",
              "       [ 0,  0,  0,  0,  0,  0, 10,  0,  0,  0],\n",
              "       [ 0,  0,  0,  0,  0,  0,  0, 10,  0,  0],\n",
              "       [ 0,  0,  0,  0,  0,  1,  0,  0,  9,  0],\n",
              "       [ 0,  0,  0,  0,  0,  0,  0,  0,  0, 10]])"
            ]
          },
          "metadata": {},
          "execution_count": 8
        }
      ]
    },
    {
      "cell_type": "code",
      "metadata": {
        "colab": {
          "base_uri": "https://localhost:8080/",
          "height": 476
        },
        "id": "7IGz1bZfuws0",
        "outputId": "989bf68f-3ca5-4745-efdd-440152d623b2"
      },
      "source": [
        "\n",
        "import matplotlib.pyplot as plt\n",
        "\n",
        "def plot_confusion_matrix(matrix):\n",
        "    \"\"\"If you prefer color and a colorbar\"\"\"\n",
        "    fig = plt.figure(figsize=(8,8))\n",
        "    ax = fig.add_subplot(111)\n",
        "    cax = ax.matshow(matrix)\n",
        "    fig.colorbar(cax)\n",
        "    \n",
        "row_sums = conf_mx.sum(axis=1, keepdims=True)\n",
        "norm_conf_mx = conf_mx / row_sums\n",
        "np.fill_diagonal(norm_conf_mx, 0)\n",
        "# plt.matshow(norm_conf_mx, cmap=plt.cm.gray)\n",
        "plot_confusion_matrix(norm_conf_mx)\n",
        "plt.show()"
      ],
      "execution_count": 9,
      "outputs": [
        {
          "output_type": "display_data",
          "data": {
            "text/plain": [
              "<Figure size 576x576 with 2 Axes>"
            ],
            "image/png": "[encoded data removed]"
          },
          "metadata": {
            "needs_background": "light"
          }
        }
      ]
    },
    {
      "cell_type": "markdown",
      "metadata": {
        "id": "Jw_xuekiyBFD"
      },
      "source": [
        "> The model mistakens the class 7,5 and 2"
      ]
    },
    {
      "cell_type": "code",
      "metadata": {
        "colab": {
          "base_uri": "https://localhost:8080/"
        },
        "id": "ngZa7-oRz0sp",
        "outputId": "28bce1bd-edc1-4d99-8065-37584f934f7f"
      },
      "source": [
        "from sklearn.metrics import classification_report\n",
        "\n",
        "print(classification_report(y_test, y_predict))"
      ],
      "execution_count": 10,
      "outputs": [
        {
          "output_type": "stream",
          "name": "stdout",
          "text": [
            "              precision    recall  f1-score   support\n",
            "\n",
            "           0       0.78      0.70      0.74        10\n",
            "           1       0.91      1.00      0.95        10\n",
            "           2       1.00      0.90      0.95        10\n",
            "           3       1.00      1.00      1.00        10\n",
            "           4       1.00      1.00      1.00        10\n",
            "           5       0.89      0.80      0.84        10\n",
            "           6       1.00      1.00      1.00        10\n",
            "           7       0.77      1.00      0.87        10\n",
            "           8       1.00      0.90      0.95        10\n",
            "           9       1.00      1.00      1.00        10\n",
            "\n",
            "    accuracy                           0.93       100\n",
            "   macro avg       0.93      0.93      0.93       100\n",
            "weighted avg       0.93      0.93      0.93       100\n",
            "\n"
          ]
        }
      ]
    },
    {
      "cell_type": "code",
      "metadata": {
        "colab": {
          "base_uri": "https://localhost:8080/",
          "height": 295
        },
        "id": "5dcJRMkovEHZ",
        "outputId": "f238eb1e-ef39-47cb-9089-1b600fbb4f6c"
      },
      "source": [
        "k = ''\n",
        "if 'accuracy' in history.history :\n",
        "    k = 'accuracy'    \n",
        "\n",
        "if 'acc' in history.history :\n",
        "    k = 'acc'\n",
        "    \n",
        "if k != '' :    \n",
        "    plt.plot(history.history[k])\n",
        "    plt.plot(history.history['val_'+k])\n",
        "    plt.title('Model Accuracy')\n",
        "    plt.ylabel('Accuracy')\n",
        "    plt.xlabel('Epoch')\n",
        "    plt.legend(['train', 'test'], loc='upper left')\n",
        "    plt.show()\n"
      ],
      "execution_count": 11,
      "outputs": [
        {
          "output_type": "display_data",
          "data": {
            "text/plain": [
              "<Figure size 432x288 with 1 Axes>"
            ],
            "image/png": "[encoded data removed]"
          },
          "metadata": {
            "needs_background": "light"
          }
        }
      ]
    },
    {
      "cell_type": "code",
      "metadata": {
        "colab": {
          "base_uri": "https://localhost:8080/",
          "height": 295
        },
        "id": "S9uCWalrvGwq",
        "outputId": "54c3fc9c-f6fa-415f-ba7a-275cd08f4d8a"
      },
      "source": [
        "plt.plot(history.history['loss'])\n",
        "plt.plot(history.history['val_loss'])\n",
        "plt.title('Model loss')\n",
        "plt.ylabel('Loss')\n",
        "plt.xlabel('Epoch')\n",
        "plt.legend(['train', 'test'], loc='upper left')\n",
        "plt.show()\n",
        "\n"
      ],
      "execution_count": 12,
      "outputs": [
        {
          "output_type": "display_data",
          "data": {
            "text/plain": [
              "<Figure size 432x288 with 1 Axes>"
            ],
            "image/png": "[encoded data removed]"
          },
          "metadata": {
            "needs_background": "light"
          }
        }
      ]
    },
    {
      "cell_type": "markdown",
      "metadata": {
        "id": "H1zpIMY1y5v9"
      },
      "source": [
        "The model is a good fit, as the training loss at the beginnig is high but it's decreasing while the model sees more examples, while the validation loss started high and it's decreasing over examples. "
      ]
    },
    {
      "cell_type": "markdown",
      "metadata": {
        "id": "rNS6J7I80s0S"
      },
      "source": [
        "# VGG16 with data augmentation"
      ]
    },
    {
      "cell_type": "code",
      "metadata": {
        "colab": {
          "base_uri": "https://localhost:8080/",
          "height": 300
        },
        "id": "ITZrHQ3p96E4",
        "outputId": "09b0cbd0-b6d5-4df3-dcf8-6056bb5e279e"
      },
      "source": [
        "# make a df of X_train and y_train to make it easy to select each class then to apply augmentation for each class individually\n",
        "df.head()"
      ],
      "execution_count": 13,
      "outputs": [
        {
          "output_type": "execute_result",
          "data": {
            "text/plain": [
              "          0         1         2         3         4         5         6  \\\n",
              "0  0.302022  0.309865  0.298529  0.298836  0.306679  0.297059  0.293934   \n",
              "1  0.328922  0.348529  0.332843  0.322549  0.342157  0.326471  0.315502   \n",
              "2  0.297488  0.305331  0.293566  0.295588  0.303431  0.291667  0.290686   \n",
              "3  0.293627  0.317157  0.317157  0.288725  0.312255  0.312255  0.281373   \n",
              "4  0.320588  0.336275  0.332353  0.314216  0.329902  0.325980  0.309314   \n",
              "\n",
              "          7         8         9  ...      3831      3832      3833      3834  \\\n",
              "0  0.301777  0.290012  0.287745  ...  0.057843  0.062439  0.067341  0.067647   \n",
              "1  0.335110  0.319424  0.314216  ...  0.067770  0.075245  0.124755  0.067157   \n",
              "2  0.298529  0.286765  0.285784  ...  0.043934  0.062255  0.065012  0.063848   \n",
              "3  0.304902  0.304902  0.271569  ...  0.123958  0.207108  0.307598  0.113235   \n",
              "4  0.325000  0.321078  0.312745  ...  0.276471  0.256005  0.264338  0.295159   \n",
              "\n",
              "       3835      3836      3837      3838      3839  Class  \n",
              "0  0.065196  0.050184  0.077451  0.066667  0.043627      0  \n",
              "1  0.054718  0.082782  0.087868  0.064828  0.074081      0  \n",
              "2  0.072365  0.053064  0.050368  0.050858  0.020466      0  \n",
              "3  0.198223  0.288603  0.128676  0.213051  0.294914      0  \n",
              "4  0.318505  0.346140  0.200919  0.259375  0.306434      0  \n",
              "\n",
              "[5 rows x 3841 columns]"
            ],
            "text/html": [
              "\n",
              "  <div id=\"df-6b963334-b72d-48b2-a840-72b69a675b76\">\n",
              "    <div class=\"colab-df-container\">\n",
              "      <div>\n",
              "<style scoped>\n",
              "    .dataframe tbody tr th:only-of-type {\n",
              "        vertical-align: middle;\n",
              "    }\n",
              "\n",
              "    .dataframe tbody tr th {\n",
              "        vertical-align: top;\n",
              "    }\n",
              "\n",
              "    .dataframe thead th {\n",
              "        text-align: right;\n",
              "    }\n",
              "</style>\n",
              "<table border=\"1\" class=\"dataframe\">\n",
              "  <thead>\n",
              "    <tr style=\"text-align: right;\">\n",
              "      <th></th>\n",
              "      <th>0</th>\n",
              "      <th>1</th>\n",
              "      <th>2</th>\n",
              "      <th>3</th>\n",
              "      <th>4</th>\n",
              "      <th>5</th>\n",
              "      <th>6</th>\n",
              "      <th>7</th>\n",
              "      <th>8</th>\n",
              "      <th>9</th>\n",
              "      <th>...</th>\n",
              "      <th>3831</th>\n",
              "      <th>3832</th>\n",
              "      <th>3833</th>\n",
              "      <th>3834</th>\n",
              "      <th>3835</th>\n",
              "      <th>3836</th>\n",
              "      <th>3837</th>\n",
              "      <th>3838</th>\n",
              "      <th>3839</th>\n",
              "      <th>Class</th>\n",
              "    </tr>\n",
              "  </thead>\n",
              "  <tbody>\n",
              "    <tr>\n",
              "      <th>0</th>\n",
              "      <td>0.302022</td>\n",
              "      <td>0.309865</td>\n",
              "      <td>0.298529</td>\n",
              "      <td>0.298836</td>\n",
              "      <td>0.306679</td>\n",
              "      <td>0.297059</td>\n",
              "      <td>0.293934</td>\n",
              "      <td>0.301777</td>\n",
              "      <td>0.290012</td>\n",
              "      <td>0.287745</td>\n",
              "      <td>...</td>\n",
              "      <td>0.057843</td>\n",
              "      <td>0.062439</td>\n",
              "      <td>0.067341</td>\n",
              "      <td>0.067647</td>\n",
              "      <td>0.065196</td>\n",
              "      <td>0.050184</td>\n",
              "      <td>0.077451</td>\n",
              "      <td>0.066667</td>\n",
              "      <td>0.043627</td>\n",
              "      <td>0</td>\n",
              "    </tr>\n",
              "    <tr>\n",
              "      <th>1</th>\n",
              "      <td>0.328922</td>\n",
              "      <td>0.348529</td>\n",
              "      <td>0.332843</td>\n",
              "      <td>0.322549</td>\n",
              "      <td>0.342157</td>\n",
              "      <td>0.326471</td>\n",
              "      <td>0.315502</td>\n",
              "      <td>0.335110</td>\n",
              "      <td>0.319424</td>\n",
              "      <td>0.314216</td>\n",
              "      <td>...</td>\n",
              "      <td>0.067770</td>\n",
              "      <td>0.075245</td>\n",
              "      <td>0.124755</td>\n",
              "      <td>0.067157</td>\n",
              "      <td>0.054718</td>\n",
              "      <td>0.082782</td>\n",
              "      <td>0.087868</td>\n",
              "      <td>0.064828</td>\n",
              "      <td>0.074081</td>\n",
              "      <td>0</td>\n",
              "    </tr>\n",
              "    <tr>\n",
              "      <th>2</th>\n",
              "      <td>0.297488</td>\n",
              "      <td>0.305331</td>\n",
              "      <td>0.293566</td>\n",
              "      <td>0.295588</td>\n",
              "      <td>0.303431</td>\n",
              "      <td>0.291667</td>\n",
              "      <td>0.290686</td>\n",
              "      <td>0.298529</td>\n",
              "      <td>0.286765</td>\n",
              "      <td>0.285784</td>\n",
              "      <td>...</td>\n",
              "      <td>0.043934</td>\n",
              "      <td>0.062255</td>\n",
              "      <td>0.065012</td>\n",
              "      <td>0.063848</td>\n",
              "      <td>0.072365</td>\n",
              "      <td>0.053064</td>\n",
              "      <td>0.050368</td>\n",
              "      <td>0.050858</td>\n",
              "      <td>0.020466</td>\n",
              "      <td>0</td>\n",
              "    </tr>\n",
              "    <tr>\n",
              "      <th>3</th>\n",
              "      <td>0.293627</td>\n",
              "      <td>0.317157</td>\n",
              "      <td>0.317157</td>\n",
              "      <td>0.288725</td>\n",
              "      <td>0.312255</td>\n",
              "      <td>0.312255</td>\n",
              "      <td>0.281373</td>\n",
              "      <td>0.304902</td>\n",
              "      <td>0.304902</td>\n",
              "      <td>0.271569</td>\n",
              "      <td>...</td>\n",
              "      <td>0.123958</td>\n",
              "      <td>0.207108</td>\n",
              "      <td>0.307598</td>\n",
              "      <td>0.113235</td>\n",
              "      <td>0.198223</td>\n",
              "      <td>0.288603</td>\n",
              "      <td>0.128676</td>\n",
              "      <td>0.213051</td>\n",
              "      <td>0.294914</td>\n",
              "      <td>0</td>\n",
              "    </tr>\n",
              "    <tr>\n",
              "      <th>4</th>\n",
              "      <td>0.320588</td>\n",
              "      <td>0.336275</td>\n",
              "      <td>0.332353</td>\n",
              "      <td>0.314216</td>\n",
              "      <td>0.329902</td>\n",
              "      <td>0.325980</td>\n",
              "      <td>0.309314</td>\n",
              "      <td>0.325000</td>\n",
              "      <td>0.321078</td>\n",
              "      <td>0.312745</td>\n",
              "      <td>...</td>\n",
              "      <td>0.276471</td>\n",
              "      <td>0.256005</td>\n",
              "      <td>0.264338</td>\n",
              "      <td>0.295159</td>\n",
              "      <td>0.318505</td>\n",
              "      <td>0.346140</td>\n",
              "      <td>0.200919</td>\n",
              "      <td>0.259375</td>\n",
              "      <td>0.306434</td>\n",
              "      <td>0</td>\n",
              "    </tr>\n",
              "  </tbody>\n",
              "</table>\n",
              "<p>5 rows × 3841 columns</p>\n",
              "</div>\n",
              "      <button class=\"colab-df-convert\" onclick=\"convertToInteractive('df-6b963334-b72d-48b2-a840-72b69a675b76')\"\n",
              "              title=\"Convert this dataframe to an interactive table.\"\n",
              "              style=\"display:none;\">\n",
              "        \n",
              "  <svg xmlns=\"http://www.w3.org/2000/svg\" height=\"24px\"viewBox=\"0 0 24 24\"\n",
              "       width=\"24px\">\n",
              "    <path d=\"M0 0h24v24H0V0z\" fill=\"none\"/>\n",
              "    <path d=\"M18.56 5.44l.94 2.06.94-2.06 2.06-.94-2.06-.94-.94-2.06-.94 2.06-2.06.94zm-11 1L8.5 8.5l.94-2.06 2.06-.94-2.06-.94L8.5 2.5l-.94 2.06-2.06.94zm10 10l.94 2.06.94-2.06 2.06-.94-2.06-.94-.94-2.06-.94 2.06-2.06.94z\"/><path d=\"M17.41 7.96l-1.37-1.37c-.4-.4-.92-.59-1.43-.59-.52 0-1.04.2-1.43.59L10.3 9.45l-7.72 7.72c-.78.78-.78 2.05 0 2.83L4 21.41c.39.39.9.59 1.41.59.51 0 1.02-.2 1.41-.59l7.78-7.78 2.81-2.81c.8-.78.8-2.07 0-2.86zM5.41 20L4 18.59l7.72-7.72 1.47 1.35L5.41 20z\"/>\n",
              "  </svg>\n",
              "      </button>\n",
              "      \n",
              "  <style>\n",
              "    .colab-df-container {\n",
              "      display:flex;\n",
              "      flex-wrap:wrap;\n",
              "      gap: 12px;\n",
              "    }\n",
              "\n",
              "    .colab-df-convert {\n",
              "      background-color: #E8F0FE;\n",
              "      border: none;\n",
              "      border-radius: 50%;\n",
              "      cursor: pointer;\n",
              "      display: none;\n",
              "      fill: #1967D2;\n",
              "      height: 32px;\n",
              "      padding: 0 0 0 0;\n",
              "      width: 32px;\n",
              "    }\n",
              "\n",
              "    .colab-df-convert:hover {\n",
              "      background-color: #E2EBFA;\n",
              "      box-shadow: 0px 1px 2px rgba(60, 64, 67, 0.3), 0px 1px 3px 1px rgba(60, 64, 67, 0.15);\n",
              "      fill: #174EA6;\n",
              "    }\n",
              "\n",
              "    [theme=dark] .colab-df-convert {\n",
              "      background-color: #3B4455;\n",
              "      fill: #D2E3FC;\n",
              "    }\n",
              "\n",
              "    [theme=dark] .colab-df-convert:hover {\n",
              "      background-color: #434B5C;\n",
              "      box-shadow: 0px 1px 3px 1px rgba(0, 0, 0, 0.15);\n",
              "      filter: drop-shadow(0px 1px 2px rgba(0, 0, 0, 0.3));\n",
              "      fill: #FFFFFF;\n",
              "    }\n",
              "  </style>\n",
              "\n",
              "      <script>\n",
              "        const buttonEl =\n",
              "          document.querySelector('#df-6b963334-b72d-48b2-a840-72b69a675b76 button.colab-df-convert');\n",
              "        buttonEl.style.display =\n",
              "          google.colab.kernel.accessAllowed ? 'block' : 'none';\n",
              "\n",
              "        async function convertToInteractive(key) {\n",
              "          const element = document.querySelector('#df-6b963334-b72d-48b2-a840-72b69a675b76');\n",
              "          const dataTable =\n",
              "            await google.colab.kernel.invokeFunction('convertToInteractive',\n",
              "                                                     [key], {});\n",
              "          if (!dataTable) return;\n",
              "\n",
              "          const docLinkHtml = 'Like what you see? Visit the ' +\n",
              "            '<a target=\"_blank\" href=https://colab.research.google.com/notebooks/data_table.ipynb>data table notebook</a>'\n",
              "            + ' to learn more about interactive tables.';\n",
              "          element.innerHTML = '';\n",
              "          dataTable['output_type'] = 'display_data';\n",
              "          await google.colab.output.renderOutput(dataTable, element);\n",
              "          const docLink = document.createElement('div');\n",
              "          docLink.innerHTML = docLinkHtml;\n",
              "          element.appendChild(docLink);\n",
              "        }\n",
              "      </script>\n",
              "    </div>\n",
              "  </div>\n",
              "  "
            ]
          },
          "metadata": {},
          "execution_count": 13
        }
      ]
    },
    {
      "cell_type": "code",
      "metadata": {
        "id": "KKSYleag1tUM"
      },
      "source": [
        "from keras.preprocessing.image import ImageDataGenerator\n",
        "\n",
        "datagen = ImageDataGenerator(\n",
        "        rotation_range=20,\n",
        "        width_shift_range=0.002,\n",
        "        height_shift_range=0.002,\n",
        "         zoom_range=0.01,\n",
        "         horizontal_flip=True,\n",
        "        fill_mode='nearest')"
      ],
      "execution_count": 14,
      "outputs": []
    },
    {
      "cell_type": "code",
      "metadata": {
        "colab": {
          "base_uri": "https://localhost:8080/"
        },
        "id": "wfHOjKW8XKBx",
        "outputId": "ec99e0e6-cb8b-4126-f30d-32748299de76"
      },
      "source": [
        "for layer in model.layers:\n",
        "    layer.trainable = False\n",
        "model = VGG19(include_top=False, input_shape=X_train[0].shape)\n",
        "flat1 = Flatten()(model.layers[-1].output)\n",
        "class1 = Dense(1024, activation='relu')(flat1)\n",
        "class2 = Dense(1024, activation='relu')(class1)\n",
        "\n",
        "output = Dense(10, activation='softmax')(class2)\n",
        "\n",
        "model_aug = Model(inputs=model.inputs, outputs=output)\n",
        "model.summary()"
      ],
      "execution_count": 16,
      "outputs": [
        {
          "output_type": "stream",
          "name": "stdout",
          "text": [
            "Model: \"vgg19\"\n",
            "_________________________________________________________________\n",
            " Layer (type)                Output Shape              Param #   \n",
            "=================================================================\n",
            " input_2 (InputLayer)        [(None, 40, 32, 3)]       0         \n",
            "                                                                 \n",
            " block1_conv1 (Conv2D)       (None, 40, 32, 64)        1792      \n",
            "                                                                 \n",
            " block1_conv2 (Conv2D)       (None, 40, 32, 64)        36928     \n",
            "                                                                 \n",
            " block1_pool (MaxPooling2D)  (None, 20, 16, 64)        0         \n",
            "                                                                 \n",
            " block2_conv1 (Conv2D)       (None, 20, 16, 128)       73856     \n",
            "                                                                 \n",
            " block2_conv2 (Conv2D)       (None, 20, 16, 128)       147584    \n",
            "                                                                 \n",
            " block2_pool (MaxPooling2D)  (None, 10, 8, 128)        0         \n",
            "                                                                 \n",
            " block3_conv1 (Conv2D)       (None, 10, 8, 256)        295168    \n",
            "                                                                 \n",
            " block3_conv2 (Conv2D)       (None, 10, 8, 256)        590080    \n",
            "                                                                 \n",
            " block3_conv3 (Conv2D)       (None, 10, 8, 256)        590080    \n",
            "                                                                 \n",
            " block3_conv4 (Conv2D)       (None, 10, 8, 256)        590080    \n",
            "                                                                 \n",
            " block3_pool (MaxPooling2D)  (None, 5, 4, 256)         0         \n",
            "                                                                 \n",
            " block4_conv1 (Conv2D)       (None, 5, 4, 512)         1180160   \n",
            "                                                                 \n",
            " block4_conv2 (Conv2D)       (None, 5, 4, 512)         2359808   \n",
            "                                                                 \n",
            " block4_conv3 (Conv2D)       (None, 5, 4, 512)         2359808   \n",
            "                                                                 \n",
            " block4_conv4 (Conv2D)       (None, 5, 4, 512)         2359808   \n",
            "                                                                 \n",
            " block4_pool (MaxPooling2D)  (None, 2, 2, 512)         0         \n",
            "                                                                 \n",
            " block5_conv1 (Conv2D)       (None, 2, 2, 512)         2359808   \n",
            "                                                                 \n",
            " block5_conv2 (Conv2D)       (None, 2, 2, 512)         2359808   \n",
            "                                                                 \n",
            " block5_conv3 (Conv2D)       (None, 2, 2, 512)         2359808   \n",
            "                                                                 \n",
            " block5_conv4 (Conv2D)       (None, 2, 2, 512)         2359808   \n",
            "                                                                 \n",
            " block5_pool (MaxPooling2D)  (None, 1, 1, 512)         0         \n",
            "                                                                 \n",
            "=================================================================\n",
            "Total params: 20,024,384\n",
            "Trainable params: 20,024,384\n",
            "Non-trainable params: 0\n",
            "_________________________________________________________________\n"
          ]
        }
      ]
    },
    {
      "cell_type": "code",
      "metadata": {
        "colab": {
          "base_uri": "https://localhost:8080/"
        },
        "id": "ql-WfhiSewcj",
        "outputId": "1a3bcffc-a6a9-488d-9a5b-781d587a0467"
      },
      "source": [
        "y_train_k = tensorflow.keras.utils.to_categorical(y_train, num_classes=10)\n",
        "y_test_k = tensorflow.keras.utils.to_categorical(y_test, num_classes=10)\n",
        "\n",
        "sgd = tensorflow.keras.optimizers.SGD(lr=0.0008)\n",
        "model_aug.compile(loss='categorical_crossentropy', \n",
        "                           optimizer=sgd, \n",
        "                           metrics=['accuracy'])\n",
        "\n",
        "\n",
        "history = model_aug.fit(datagen.flow(X_train, y_train_k), batch_size=128, epochs=50, verbose=1, \n",
        "                                 validation_data=(X_test, y_test_k))\n"
      ],
      "execution_count": 17,
      "outputs": [
        {
          "output_type": "stream",
          "name": "stdout",
          "text": [
            "Epoch 1/50\n"
          ]
        },
        {
          "output_type": "stream",
          "name": "stderr",
          "text": [
            "/usr/local/lib/python3.7/dist-packages/keras/optimizer_v2/gradient_descent.py:102: UserWarning: The `lr` argument is deprecated, use `learning_rate` instead.\n",
            "  super(SGD, self).__init__(name, **kwargs)\n"
          ]
        },
        {
          "output_type": "stream",
          "name": "stdout",
          "text": [
            "11/11 [==============================] - 4s 155ms/step - loss: 2.3381 - accuracy: 0.0917 - val_loss: 2.2598 - val_accuracy: 0.0800\n",
            "Epoch 2/50\n",
            "11/11 [==============================] - 0s 44ms/step - loss: 2.2057 - accuracy: 0.1804 - val_loss: 2.1738 - val_accuracy: 0.1800\n",
            "Epoch 3/50\n",
            "11/11 [==============================] - 0s 40ms/step - loss: 2.1008 - accuracy: 0.3486 - val_loss: 2.0939 - val_accuracy: 0.3400\n",
            "Epoch 4/50\n",
            "11/11 [==============================] - 0s 39ms/step - loss: 1.9874 - accuracy: 0.5229 - val_loss: 1.9997 - val_accuracy: 0.5000\n",
            "Epoch 5/50\n",
            "11/11 [==============================] - 0s 40ms/step - loss: 1.8558 - accuracy: 0.5963 - val_loss: 1.8549 - val_accuracy: 0.5600\n",
            "Epoch 6/50\n",
            "11/11 [==============================] - 0s 40ms/step - loss: 1.6996 - accuracy: 0.5963 - val_loss: 1.6819 - val_accuracy: 0.5900\n",
            "Epoch 7/50\n",
            "11/11 [==============================] - 0s 40ms/step - loss: 1.5103 - accuracy: 0.6575 - val_loss: 1.4740 - val_accuracy: 0.5300\n",
            "Epoch 8/50\n",
            "11/11 [==============================] - 0s 44ms/step - loss: 1.2534 - accuracy: 0.7034 - val_loss: 1.1912 - val_accuracy: 0.6600\n",
            "Epoch 9/50\n",
            "11/11 [==============================] - 0s 40ms/step - loss: 1.1126 - accuracy: 0.6881 - val_loss: 1.0409 - val_accuracy: 0.7100\n",
            "Epoch 10/50\n",
            "11/11 [==============================] - 0s 44ms/step - loss: 0.8456 - accuracy: 0.7706 - val_loss: 1.1254 - val_accuracy: 0.5700\n",
            "Epoch 11/50\n",
            "11/11 [==============================] - 0s 41ms/step - loss: 0.7370 - accuracy: 0.8073 - val_loss: 0.6530 - val_accuracy: 0.7500\n",
            "Epoch 12/50\n",
            "11/11 [==============================] - 0s 44ms/step - loss: 0.5477 - accuracy: 0.8410 - val_loss: 1.4353 - val_accuracy: 0.4200\n",
            "Epoch 13/50\n",
            "11/11 [==============================] - 0s 40ms/step - loss: 0.7369 - accuracy: 0.7462 - val_loss: 0.5613 - val_accuracy: 0.8100\n",
            "Epoch 14/50\n",
            "11/11 [==============================] - 0s 40ms/step - loss: 0.4713 - accuracy: 0.8502 - val_loss: 0.7706 - val_accuracy: 0.7700\n",
            "Epoch 15/50\n",
            "11/11 [==============================] - 0s 41ms/step - loss: 0.3671 - accuracy: 0.8899 - val_loss: 0.4569 - val_accuracy: 0.8200\n",
            "Epoch 16/50\n",
            "11/11 [==============================] - 0s 40ms/step - loss: 0.3790 - accuracy: 0.8746 - val_loss: 0.4250 - val_accuracy: 0.8400\n",
            "Epoch 17/50\n",
            "11/11 [==============================] - 0s 42ms/step - loss: 0.2534 - accuracy: 0.9388 - val_loss: 0.4859 - val_accuracy: 0.7900\n",
            "Epoch 18/50\n",
            "11/11 [==============================] - 1s 77ms/step - loss: 0.2153 - accuracy: 0.9327 - val_loss: 0.3528 - val_accuracy: 0.8500\n",
            "Epoch 19/50\n",
            "11/11 [==============================] - 1s 60ms/step - loss: 0.2422 - accuracy: 0.9144 - val_loss: 0.6110 - val_accuracy: 0.8100\n",
            "Epoch 20/50\n",
            "11/11 [==============================] - 1s 54ms/step - loss: 0.2341 - accuracy: 0.9266 - val_loss: 0.3797 - val_accuracy: 0.8300\n",
            "Epoch 21/50\n",
            "11/11 [==============================] - 1s 53ms/step - loss: 0.1443 - accuracy: 0.9694 - val_loss: 0.3863 - val_accuracy: 0.8500\n",
            "Epoch 22/50\n",
            "11/11 [==============================] - 1s 65ms/step - loss: 0.3373 - accuracy: 0.8746 - val_loss: 0.3326 - val_accuracy: 0.8600\n",
            "Epoch 23/50\n",
            "11/11 [==============================] - 1s 48ms/step - loss: 0.2095 - accuracy: 0.9358 - val_loss: 0.3426 - val_accuracy: 0.8600\n",
            "Epoch 24/50\n",
            "11/11 [==============================] - 1s 50ms/step - loss: 0.1380 - accuracy: 0.9572 - val_loss: 0.4399 - val_accuracy: 0.8000\n",
            "Epoch 25/50\n",
            "11/11 [==============================] - 1s 53ms/step - loss: 0.1214 - accuracy: 0.9602 - val_loss: 0.3424 - val_accuracy: 0.8500\n",
            "Epoch 26/50\n",
            "11/11 [==============================] - 1s 49ms/step - loss: 0.1002 - accuracy: 0.9694 - val_loss: 0.3370 - val_accuracy: 0.8600\n",
            "Epoch 27/50\n",
            "11/11 [==============================] - 1s 49ms/step - loss: 0.0774 - accuracy: 0.9817 - val_loss: 0.2542 - val_accuracy: 0.9000\n",
            "Epoch 28/50\n",
            "11/11 [==============================] - 1s 56ms/step - loss: 0.3958 - accuracy: 0.8777 - val_loss: 0.4793 - val_accuracy: 0.8300\n",
            "Epoch 29/50\n",
            "11/11 [==============================] - 0s 40ms/step - loss: 0.1187 - accuracy: 0.9725 - val_loss: 0.3068 - val_accuracy: 0.9000\n",
            "Epoch 30/50\n",
            "11/11 [==============================] - 0s 39ms/step - loss: 0.0716 - accuracy: 0.9878 - val_loss: 0.4843 - val_accuracy: 0.7900\n",
            "Epoch 31/50\n",
            "11/11 [==============================] - 0s 44ms/step - loss: 0.1001 - accuracy: 0.9694 - val_loss: 0.2790 - val_accuracy: 0.9100\n",
            "Epoch 32/50\n",
            "11/11 [==============================] - 0s 40ms/step - loss: 0.0662 - accuracy: 0.9817 - val_loss: 0.2794 - val_accuracy: 0.8800\n",
            "Epoch 33/50\n",
            "11/11 [==============================] - 0s 41ms/step - loss: 0.0457 - accuracy: 0.9908 - val_loss: 0.3250 - val_accuracy: 0.8800\n",
            "Epoch 34/50\n",
            "11/11 [==============================] - 0s 40ms/step - loss: 0.0405 - accuracy: 0.9939 - val_loss: 0.2488 - val_accuracy: 0.9000\n",
            "Epoch 35/50\n",
            "11/11 [==============================] - 0s 41ms/step - loss: 0.0640 - accuracy: 0.9786 - val_loss: 0.2487 - val_accuracy: 0.9300\n",
            "Epoch 36/50\n",
            "11/11 [==============================] - 0s 40ms/step - loss: 0.1157 - accuracy: 0.9664 - val_loss: 0.2694 - val_accuracy: 0.9100\n",
            "Epoch 37/50\n",
            "11/11 [==============================] - 0s 40ms/step - loss: 0.0351 - accuracy: 0.9939 - val_loss: 0.2582 - val_accuracy: 0.9000\n",
            "Epoch 38/50\n",
            "11/11 [==============================] - 0s 40ms/step - loss: 0.0735 - accuracy: 0.9786 - val_loss: 0.2404 - val_accuracy: 0.9000\n",
            "Epoch 39/50\n",
            "11/11 [==============================] - 0s 41ms/step - loss: 0.0602 - accuracy: 0.9847 - val_loss: 0.5520 - val_accuracy: 0.8700\n",
            "Epoch 40/50\n",
            "11/11 [==============================] - 0s 41ms/step - loss: 0.3261 - accuracy: 0.9266 - val_loss: 0.2735 - val_accuracy: 0.8800\n",
            "Epoch 41/50\n",
            "11/11 [==============================] - 0s 41ms/step - loss: 0.0498 - accuracy: 0.9878 - val_loss: 0.2367 - val_accuracy: 0.9100\n",
            "Epoch 42/50\n",
            "11/11 [==============================] - 0s 40ms/step - loss: 0.3376 - accuracy: 0.9052 - val_loss: 0.3081 - val_accuracy: 0.8900\n",
            "Epoch 43/50\n",
            "11/11 [==============================] - 0s 41ms/step - loss: 0.0531 - accuracy: 0.9908 - val_loss: 0.2838 - val_accuracy: 0.8700\n",
            "Epoch 44/50\n",
            "11/11 [==============================] - 0s 40ms/step - loss: 0.3578 - accuracy: 0.9144 - val_loss: 0.2545 - val_accuracy: 0.9100\n",
            "Epoch 45/50\n",
            "11/11 [==============================] - 0s 44ms/step - loss: 0.0458 - accuracy: 0.9969 - val_loss: 0.2505 - val_accuracy: 0.9100\n",
            "Epoch 46/50\n",
            "11/11 [==============================] - 0s 40ms/step - loss: 0.0353 - accuracy: 0.9939 - val_loss: 0.2534 - val_accuracy: 0.8800\n",
            "Epoch 47/50\n",
            "11/11 [==============================] - 0s 42ms/step - loss: 0.0377 - accuracy: 0.9847 - val_loss: 0.2244 - val_accuracy: 0.9000\n",
            "Epoch 48/50\n",
            "11/11 [==============================] - 0s 42ms/step - loss: 0.0326 - accuracy: 0.9969 - val_loss: 0.2090 - val_accuracy: 0.9200\n",
            "Epoch 49/50\n",
            "11/11 [==============================] - 0s 41ms/step - loss: 0.0270 - accuracy: 0.9939 - val_loss: 0.3041 - val_accuracy: 0.8700\n",
            "Epoch 50/50\n",
            "11/11 [==============================] - 0s 41ms/step - loss: 0.0977 - accuracy: 0.9694 - val_loss: 0.2399 - val_accuracy: 0.9100\n"
          ]
        }
      ]
    },
    {
      "cell_type": "code",
      "metadata": {
        "id": "ypwBSbMfr7ht"
      },
      "source": [
        "y_predict_prob = model_aug.predict(X_test)\n",
        "y_predict = y_predict_prob.argmax(axis=-1)"
      ],
      "execution_count": 18,
      "outputs": []
    },
    {
      "cell_type": "code",
      "metadata": {
        "colab": {
          "base_uri": "https://localhost:8080/",
          "height": 476
        },
        "id": "5evmNY8Pr2K2",
        "outputId": "0d990037-4ff7-46eb-dddf-bf619d7d22ef"
      },
      "source": [
        "row_sums = conf_mx.sum(axis=1, keepdims=True)\n",
        "norm_conf_mx = conf_mx / row_sums\n",
        "np.fill_diagonal(norm_conf_mx, 0)\n",
        "# plt.matshow(norm_conf_mx, cmap=plt.cm.gray)\n",
        "plot_confusion_matrix(norm_conf_mx)\n",
        "plt.show()"
      ],
      "execution_count": 19,
      "outputs": [
        {
          "output_type": "display_data",
          "data": {
            "text/plain": [
              "<Figure size 576x576 with 2 Axes>"
            ],
            "image/png": "[encoded data removed]"
          },
          "metadata": {
            "needs_background": "light"
          }
        }
      ]
    },
    {
      "cell_type": "code",
      "metadata": {
        "colab": {
          "base_uri": "https://localhost:8080/"
        },
        "id": "2-fOre9hrxIE",
        "outputId": "1d98d9ed-8f87-414f-df33-b887325c0e70"
      },
      "source": [
        "print(classification_report(y_test, y_predict))"
      ],
      "execution_count": 20,
      "outputs": [
        {
          "output_type": "stream",
          "name": "stdout",
          "text": [
            "              precision    recall  f1-score   support\n",
            "\n",
            "           0       0.86      0.60      0.71        10\n",
            "           1       1.00      1.00      1.00        10\n",
            "           2       1.00      1.00      1.00        10\n",
            "           3       1.00      1.00      1.00        10\n",
            "           4       1.00      1.00      1.00        10\n",
            "           5       0.78      0.70      0.74        10\n",
            "           6       1.00      1.00      1.00        10\n",
            "           7       0.71      1.00      0.83        10\n",
            "           8       0.89      0.80      0.84        10\n",
            "           9       0.91      1.00      0.95        10\n",
            "\n",
            "    accuracy                           0.91       100\n",
            "   macro avg       0.91      0.91      0.91       100\n",
            "weighted avg       0.91      0.91      0.91       100\n",
            "\n"
          ]
        }
      ]
    },
    {
      "cell_type": "code",
      "metadata": {
        "colab": {
          "base_uri": "https://localhost:8080/",
          "height": 295
        },
        "id": "FttXAkaprk6W",
        "outputId": "3320d5ee-d1f4-4742-df89-bb323c370a4c"
      },
      "source": [
        "k = ''\n",
        "if 'accuracy' in history.history :\n",
        "    k = 'accuracy'    \n",
        "\n",
        "if 'acc' in history.history :\n",
        "    k = 'acc'\n",
        "    \n",
        "if k != '' :    \n",
        "    plt.plot(history.history[k])\n",
        "    plt.plot(history.history['val_'+k])\n",
        "    plt.title('Model Accuracy')\n",
        "    plt.ylabel('Accuracy')\n",
        "    plt.xlabel('Epoch')\n",
        "    plt.legend(['train', 'test'], loc='upper left')\n",
        "    plt.show()"
      ],
      "execution_count": 21,
      "outputs": [
        {
          "output_type": "display_data",
          "data": {
            "text/plain": [
              "<Figure size 432x288 with 1 Axes>"
            ],
            "image/png": "[encoded data removed]"
          },
          "metadata": {
            "needs_background": "light"
          }
        }
      ]
    },
    {
      "cell_type": "code",
      "metadata": {
        "colab": {
          "base_uri": "https://localhost:8080/",
          "height": 295
        },
        "id": "TxVGcGnSrl-2",
        "outputId": "9d03c22d-8bf4-430b-d266-31c4f157ea82"
      },
      "source": [
        "plt.plot(history.history['loss'])\n",
        "plt.plot(history.history['val_loss'])\n",
        "plt.title('Model loss')\n",
        "plt.ylabel('Loss')\n",
        "plt.xlabel('Epoch')\n",
        "plt.legend(['train', 'test'], loc='upper left')\n",
        "plt.show()\n",
        "\n"
      ],
      "execution_count": 22,
      "outputs": [
        {
          "output_type": "display_data",
          "data": {
            "text/plain": [
              "<Figure size 432x288 with 1 Axes>"
            ],
            "image/png": "[encoded data removed]"
          },
          "metadata": {
            "needs_background": "light"
          }
        }
      ]
    },
    {
      "cell_type": "markdown",
      "metadata": {
        "id": "9UT8RGbdfQYp"
      },
      "source": [
        "# VGG16 with data regularization"
      ]
    },
    {
      "cell_type": "code",
      "metadata": {
        "colab": {
          "base_uri": "https://localhost:8080/"
        },
        "id": "hAbxh4ycfgav",
        "outputId": "d250afe8-eb22-41ae-9532-b938eecee385"
      },
      "source": [
        "from keras.layers import BatchNormalization\n",
        "for layer in model.layers:\n",
        "    layer.trainable = False\n",
        "model = VGG19(include_top=False, input_shape=X_train[0].shape)\n",
        "flat1 = Flatten()(model.layers[-1].output)\n",
        "t=BatchNormalization()(flat1)\n",
        "        \n",
        "class1 = Dense(1024, activation='relu')(t)\n",
        "tt=BatchNormalization()(class1)\n",
        "output = Dense(10, activation='softmax')(tt)\n",
        "\n",
        "model_reg = Model(inputs=model.inputs, outputs=output)\n",
        "model.summary()"
      ],
      "execution_count": 24,
      "outputs": [
        {
          "output_type": "stream",
          "name": "stdout",
          "text": [
            "Model: \"vgg19\"\n",
            "_________________________________________________________________\n",
            " Layer (type)                Output Shape              Param #   \n",
            "=================================================================\n",
            " input_3 (InputLayer)        [(None, 40, 32, 3)]       0         \n",
            "                                                                 \n",
            " block1_conv1 (Conv2D)       (None, 40, 32, 64)        1792      \n",
            "                                                                 \n",
            " block1_conv2 (Conv2D)       (None, 40, 32, 64)        36928     \n",
            "                                                                 \n",
            " block1_pool (MaxPooling2D)  (None, 20, 16, 64)        0         \n",
            "                                                                 \n",
            " block2_conv1 (Conv2D)       (None, 20, 16, 128)       73856     \n",
            "                                                                 \n",
            " block2_conv2 (Conv2D)       (None, 20, 16, 128)       147584    \n",
            "                                                                 \n",
            " block2_pool (MaxPooling2D)  (None, 10, 8, 128)        0         \n",
            "                                                                 \n",
            " block3_conv1 (Conv2D)       (None, 10, 8, 256)        295168    \n",
            "                                                                 \n",
            " block3_conv2 (Conv2D)       (None, 10, 8, 256)        590080    \n",
            "                                                                 \n",
            " block3_conv3 (Conv2D)       (None, 10, 8, 256)        590080    \n",
            "                                                                 \n",
            " block3_conv4 (Conv2D)       (None, 10, 8, 256)        590080    \n",
            "                                                                 \n",
            " block3_pool (MaxPooling2D)  (None, 5, 4, 256)         0         \n",
            "                                                                 \n",
            " block4_conv1 (Conv2D)       (None, 5, 4, 512)         1180160   \n",
            "                                                                 \n",
            " block4_conv2 (Conv2D)       (None, 5, 4, 512)         2359808   \n",
            "                                                                 \n",
            " block4_conv3 (Conv2D)       (None, 5, 4, 512)         2359808   \n",
            "                                                                 \n",
            " block4_conv4 (Conv2D)       (None, 5, 4, 512)         2359808   \n",
            "                                                                 \n",
            " block4_pool (MaxPooling2D)  (None, 2, 2, 512)         0         \n",
            "                                                                 \n",
            " block5_conv1 (Conv2D)       (None, 2, 2, 512)         2359808   \n",
            "                                                                 \n",
            " block5_conv2 (Conv2D)       (None, 2, 2, 512)         2359808   \n",
            "                                                                 \n",
            " block5_conv3 (Conv2D)       (None, 2, 2, 512)         2359808   \n",
            "                                                                 \n",
            " block5_conv4 (Conv2D)       (None, 2, 2, 512)         2359808   \n",
            "                                                                 \n",
            " block5_pool (MaxPooling2D)  (None, 1, 1, 512)         0         \n",
            "                                                                 \n",
            "=================================================================\n",
            "Total params: 20,024,384\n",
            "Trainable params: 20,024,384\n",
            "Non-trainable params: 0\n",
            "_________________________________________________________________\n"
          ]
        }
      ]
    },
    {
      "cell_type": "code",
      "metadata": {
        "colab": {
          "base_uri": "https://localhost:8080/"
        },
        "id": "puVd3CwJtuUR",
        "outputId": "2cb1fb11-1c91-4146-8dab-3177e4207430"
      },
      "source": [
        "y_train_k = tensorflow.keras.utils.to_categorical(y_train, num_classes=10)\n",
        "y_test_k = tensorflow.keras.utils.to_categorical(y_test, num_classes=10)\n",
        "\n",
        "sgd = tensorflow.keras.optimizers.SGD(lr=0.0008)\n",
        "model_reg.compile(loss='categorical_crossentropy', \n",
        "                           optimizer=sgd, \n",
        "                           metrics=['accuracy'])\n",
        "\n",
        "\n",
        "history = model_reg.fit(X_train, y_train_k, batch_size=128, epochs=50, verbose=1, \n",
        "                                 validation_data=(X_test, y_test_k))\n"
      ],
      "execution_count": 25,
      "outputs": [
        {
          "output_type": "stream",
          "name": "stdout",
          "text": [
            "Epoch 1/50\n"
          ]
        },
        {
          "output_type": "stream",
          "name": "stderr",
          "text": [
            "/usr/local/lib/python3.7/dist-packages/keras/optimizer_v2/gradient_descent.py:102: UserWarning: The `lr` argument is deprecated, use `learning_rate` instead.\n",
            "  super(SGD, self).__init__(name, **kwargs)\n"
          ]
        },
        {
          "output_type": "stream",
          "name": "stdout",
          "text": [
            "3/3 [==============================] - 2s 256ms/step - loss: 2.4330 - accuracy: 0.3609 - val_loss: 2.2416 - val_accuracy: 0.2000\n",
            "Epoch 2/50\n",
            "3/3 [==============================] - 0s 92ms/step - loss: 0.6021 - accuracy: 0.8716 - val_loss: 2.1924 - val_accuracy: 0.2700\n",
            "Epoch 3/50\n",
            "3/3 [==============================] - 0s 92ms/step - loss: 0.2830 - accuracy: 0.9664 - val_loss: 2.1640 - val_accuracy: 0.2000\n",
            "Epoch 4/50\n",
            "3/3 [==============================] - 0s 90ms/step - loss: 0.1709 - accuracy: 0.9878 - val_loss: 2.1516 - val_accuracy: 0.3000\n",
            "Epoch 5/50\n",
            "3/3 [==============================] - 0s 90ms/step - loss: 0.1309 - accuracy: 0.9939 - val_loss: 2.1391 - val_accuracy: 0.3000\n",
            "Epoch 6/50\n",
            "3/3 [==============================] - 0s 90ms/step - loss: 0.1175 - accuracy: 0.9939 - val_loss: 2.1271 - val_accuracy: 0.3000\n",
            "Epoch 7/50\n",
            "3/3 [==============================] - 0s 89ms/step - loss: 0.0883 - accuracy: 1.0000 - val_loss: 2.1139 - val_accuracy: 0.3000\n",
            "Epoch 8/50\n",
            "3/3 [==============================] - 0s 89ms/step - loss: 0.0786 - accuracy: 1.0000 - val_loss: 2.1057 - val_accuracy: 0.3000\n",
            "Epoch 9/50\n",
            "3/3 [==============================] - 0s 109ms/step - loss: 0.0699 - accuracy: 1.0000 - val_loss: 2.0893 - val_accuracy: 0.3100\n",
            "Epoch 10/50\n",
            "3/3 [==============================] - 0s 89ms/step - loss: 0.0612 - accuracy: 1.0000 - val_loss: 2.0778 - val_accuracy: 0.3200\n",
            "Epoch 11/50\n",
            "3/3 [==============================] - 0s 89ms/step - loss: 0.0548 - accuracy: 1.0000 - val_loss: 2.0629 - val_accuracy: 0.4500\n",
            "Epoch 12/50\n",
            "3/3 [==============================] - 0s 90ms/step - loss: 0.0488 - accuracy: 1.0000 - val_loss: 2.0524 - val_accuracy: 0.4700\n",
            "Epoch 13/50\n",
            "3/3 [==============================] - 0s 90ms/step - loss: 0.0461 - accuracy: 1.0000 - val_loss: 2.0400 - val_accuracy: 0.4800\n",
            "Epoch 14/50\n",
            "3/3 [==============================] - 0s 90ms/step - loss: 0.0471 - accuracy: 1.0000 - val_loss: 2.0244 - val_accuracy: 0.5000\n",
            "Epoch 15/50\n",
            "3/3 [==============================] - 0s 88ms/step - loss: 0.0410 - accuracy: 1.0000 - val_loss: 2.0106 - val_accuracy: 0.5100\n",
            "Epoch 16/50\n",
            "3/3 [==============================] - 0s 90ms/step - loss: 0.0348 - accuracy: 1.0000 - val_loss: 2.0002 - val_accuracy: 0.5000\n",
            "Epoch 17/50\n",
            "3/3 [==============================] - 0s 93ms/step - loss: 0.0318 - accuracy: 1.0000 - val_loss: 1.9877 - val_accuracy: 0.5300\n",
            "Epoch 18/50\n",
            "3/3 [==============================] - 0s 91ms/step - loss: 0.0303 - accuracy: 1.0000 - val_loss: 1.9747 - val_accuracy: 0.5500\n",
            "Epoch 19/50\n",
            "3/3 [==============================] - 0s 108ms/step - loss: 0.0323 - accuracy: 1.0000 - val_loss: 1.9574 - val_accuracy: 0.5600\n",
            "Epoch 20/50\n",
            "3/3 [==============================] - 0s 91ms/step - loss: 0.0288 - accuracy: 1.0000 - val_loss: 1.9451 - val_accuracy: 0.5800\n",
            "Epoch 21/50\n",
            "3/3 [==============================] - 0s 110ms/step - loss: 0.0273 - accuracy: 1.0000 - val_loss: 1.9327 - val_accuracy: 0.5900\n",
            "Epoch 22/50\n",
            "3/3 [==============================] - 0s 89ms/step - loss: 0.0255 - accuracy: 1.0000 - val_loss: 1.9238 - val_accuracy: 0.5900\n",
            "Epoch 23/50\n",
            "3/3 [==============================] - 0s 107ms/step - loss: 0.0237 - accuracy: 1.0000 - val_loss: 1.9087 - val_accuracy: 0.6200\n",
            "Epoch 24/50\n",
            "3/3 [==============================] - 0s 89ms/step - loss: 0.0244 - accuracy: 1.0000 - val_loss: 1.8933 - val_accuracy: 0.6300\n",
            "Epoch 25/50\n",
            "3/3 [==============================] - 0s 88ms/step - loss: 0.0226 - accuracy: 1.0000 - val_loss: 1.8777 - val_accuracy: 0.6600\n",
            "Epoch 26/50\n",
            "3/3 [==============================] - 0s 93ms/step - loss: 0.0256 - accuracy: 1.0000 - val_loss: 1.8634 - val_accuracy: 0.6700\n",
            "Epoch 27/50\n",
            "3/3 [==============================] - 0s 109ms/step - loss: 0.0210 - accuracy: 1.0000 - val_loss: 1.8504 - val_accuracy: 0.6800\n",
            "Epoch 28/50\n",
            "3/3 [==============================] - 0s 90ms/step - loss: 0.0207 - accuracy: 1.0000 - val_loss: 1.8347 - val_accuracy: 0.7000\n",
            "Epoch 29/50\n",
            "3/3 [==============================] - 0s 92ms/step - loss: 0.0205 - accuracy: 1.0000 - val_loss: 1.8192 - val_accuracy: 0.7100\n",
            "Epoch 30/50\n",
            "3/3 [==============================] - 0s 89ms/step - loss: 0.0189 - accuracy: 1.0000 - val_loss: 1.8055 - val_accuracy: 0.7100\n",
            "Epoch 31/50\n",
            "3/3 [==============================] - 0s 90ms/step - loss: 0.0180 - accuracy: 1.0000 - val_loss: 1.7896 - val_accuracy: 0.7200\n",
            "Epoch 32/50\n",
            "3/3 [==============================] - 0s 90ms/step - loss: 0.0184 - accuracy: 1.0000 - val_loss: 1.7749 - val_accuracy: 0.7100\n",
            "Epoch 33/50\n",
            "3/3 [==============================] - 0s 91ms/step - loss: 0.0177 - accuracy: 1.0000 - val_loss: 1.7565 - val_accuracy: 0.6900\n",
            "Epoch 34/50\n",
            "3/3 [==============================] - 0s 87ms/step - loss: 0.0176 - accuracy: 1.0000 - val_loss: 1.7421 - val_accuracy: 0.7000\n",
            "Epoch 35/50\n",
            "3/3 [==============================] - 0s 91ms/step - loss: 0.0160 - accuracy: 1.0000 - val_loss: 1.7255 - val_accuracy: 0.6900\n",
            "Epoch 36/50\n",
            "3/3 [==============================] - 0s 109ms/step - loss: 0.0154 - accuracy: 1.0000 - val_loss: 1.7086 - val_accuracy: 0.6900\n",
            "Epoch 37/50\n",
            "3/3 [==============================] - 0s 90ms/step - loss: 0.0156 - accuracy: 1.0000 - val_loss: 1.6925 - val_accuracy: 0.6900\n",
            "Epoch 38/50\n",
            "3/3 [==============================] - 0s 90ms/step - loss: 0.0154 - accuracy: 1.0000 - val_loss: 1.6741 - val_accuracy: 0.7200\n",
            "Epoch 39/50\n",
            "3/3 [==============================] - 0s 90ms/step - loss: 0.0163 - accuracy: 1.0000 - val_loss: 1.6568 - val_accuracy: 0.7200\n",
            "Epoch 40/50\n",
            "3/3 [==============================] - 0s 90ms/step - loss: 0.0148 - accuracy: 1.0000 - val_loss: 1.6386 - val_accuracy: 0.7200\n",
            "Epoch 41/50\n",
            "3/3 [==============================] - 0s 90ms/step - loss: 0.0159 - accuracy: 1.0000 - val_loss: 1.6204 - val_accuracy: 0.7500\n",
            "Epoch 42/50\n",
            "3/3 [==============================] - 0s 91ms/step - loss: 0.0138 - accuracy: 1.0000 - val_loss: 1.6017 - val_accuracy: 0.7600\n",
            "Epoch 43/50\n",
            "3/3 [==============================] - 0s 90ms/step - loss: 0.0139 - accuracy: 1.0000 - val_loss: 1.5834 - val_accuracy: 0.7700\n",
            "Epoch 44/50\n",
            "3/3 [==============================] - 0s 90ms/step - loss: 0.0134 - accuracy: 1.0000 - val_loss: 1.5637 - val_accuracy: 0.7700\n",
            "Epoch 45/50\n",
            "3/3 [==============================] - 0s 111ms/step - loss: 0.0149 - accuracy: 1.0000 - val_loss: 1.5454 - val_accuracy: 0.8100\n",
            "Epoch 46/50\n",
            "3/3 [==============================] - 0s 90ms/step - loss: 0.0129 - accuracy: 1.0000 - val_loss: 1.5265 - val_accuracy: 0.8100\n",
            "Epoch 47/50\n",
            "3/3 [==============================] - 0s 90ms/step - loss: 0.0123 - accuracy: 1.0000 - val_loss: 1.5059 - val_accuracy: 0.8200\n",
            "Epoch 48/50\n",
            "3/3 [==============================] - 0s 90ms/step - loss: 0.0126 - accuracy: 1.0000 - val_loss: 1.4847 - val_accuracy: 0.8300\n",
            "Epoch 49/50\n",
            "3/3 [==============================] - 0s 92ms/step - loss: 0.0124 - accuracy: 1.0000 - val_loss: 1.4651 - val_accuracy: 0.8300\n",
            "Epoch 50/50\n",
            "3/3 [==============================] - 0s 91ms/step - loss: 0.0126 - accuracy: 1.0000 - val_loss: 1.4419 - val_accuracy: 0.8300\n"
          ]
        }
      ]
    },
    {
      "cell_type": "code",
      "metadata": {
        "id": "zoy6GEHfuxaM"
      },
      "source": [
        "y_predict_prob = model_reg.predict(X_test)\n",
        "y_predict = y_predict_prob.argmax(axis=-1)"
      ],
      "execution_count": 26,
      "outputs": []
    },
    {
      "cell_type": "code",
      "metadata": {
        "colab": {
          "base_uri": "https://localhost:8080/"
        },
        "id": "sjcdjxenzjHt",
        "outputId": "addd0064-59a1-4a32-f731-e07b96a4d3a3"
      },
      "source": [
        "from sklearn.metrics import confusion_matrix\n",
        "conf_mx = confusion_matrix(y_test, y_predict)\n",
        "conf_mx"
      ],
      "execution_count": 27,
      "outputs": [
        {
          "output_type": "execute_result",
          "data": {
            "text/plain": [
              "array([[ 8,  0,  0,  0,  0,  1,  0,  1,  0,  0],\n",
              "       [ 0, 10,  0,  0,  0,  0,  0,  0,  0,  0],\n",
              "       [ 2,  2,  6,  0,  0,  0,  0,  0,  0,  0],\n",
              "       [ 0,  0,  0, 10,  0,  0,  0,  0,  0,  0],\n",
              "       [ 0,  0,  0,  0,  5,  5,  0,  0,  0,  0],\n",
              "       [ 1,  0,  0,  0,  0,  9,  0,  0,  0,  0],\n",
              "       [ 0,  0,  0,  0,  0,  0, 10,  0,  0,  0],\n",
              "       [ 0,  0,  0,  0,  0,  0,  0, 10,  0,  0],\n",
              "       [ 0,  0,  0,  0,  0,  0,  0,  0, 10,  0],\n",
              "       [ 1,  0,  0,  0,  0,  4,  0,  0,  0,  5]])"
            ]
          },
          "metadata": {},
          "execution_count": 27
        }
      ]
    },
    {
      "cell_type": "code",
      "metadata": {
        "colab": {
          "base_uri": "https://localhost:8080/",
          "height": 476
        },
        "id": "FQonqCLbu3Ql",
        "outputId": "6bc6b3d3-8f35-4c4c-a9eb-6ed0ec752f26"
      },
      "source": [
        "row_sums = conf_mx.sum(axis=1, keepdims=True)\n",
        "norm_conf_mx = conf_mx / row_sums\n",
        "np.fill_diagonal(norm_conf_mx, 0)\n",
        "# plt.matshow(norm_conf_mx, cmap=plt.cm.gray)\n",
        "plot_confusion_matrix(norm_conf_mx)\n",
        "plt.show()\n"
      ],
      "execution_count": 28,
      "outputs": [
        {
          "output_type": "display_data",
          "data": {
            "text/plain": [
              "<Figure size 576x576 with 2 Axes>"
            ],
            "image/png": "[encoded data removed]"
          },
          "metadata": {
            "needs_background": "light"
          }
        }
      ]
    },
    {
      "cell_type": "code",
      "metadata": {
        "colab": {
          "base_uri": "https://localhost:8080/"
        },
        "id": "HD2c249Ou7DB",
        "outputId": "0ded39a8-37a1-4423-a76a-108e8df22fa9"
      },
      "source": [
        "print(classification_report(y_test, y_predict))"
      ],
      "execution_count": 29,
      "outputs": [
        {
          "output_type": "stream",
          "name": "stdout",
          "text": [
            "              precision    recall  f1-score   support\n",
            "\n",
            "           0       0.67      0.80      0.73        10\n",
            "           1       0.83      1.00      0.91        10\n",
            "           2       1.00      0.60      0.75        10\n",
            "           3       1.00      1.00      1.00        10\n",
            "           4       1.00      0.50      0.67        10\n",
            "           5       0.47      0.90      0.62        10\n",
            "           6       1.00      1.00      1.00        10\n",
            "           7       0.91      1.00      0.95        10\n",
            "           8       1.00      1.00      1.00        10\n",
            "           9       1.00      0.50      0.67        10\n",
            "\n",
            "    accuracy                           0.83       100\n",
            "   macro avg       0.89      0.83      0.83       100\n",
            "weighted avg       0.89      0.83      0.83       100\n",
            "\n"
          ]
        }
      ]
    },
    {
      "cell_type": "code",
      "metadata": {
        "colab": {
          "base_uri": "https://localhost:8080/",
          "height": 295
        },
        "id": "0umvU0Q0u7E9",
        "outputId": "988bdeb2-a528-4d6c-d2b1-6893945903fd"
      },
      "source": [
        "k = ''\n",
        "if 'accuracy' in history.history :\n",
        "    k = 'accuracy'    \n",
        "\n",
        "if 'acc' in history.history :\n",
        "    k = 'acc'\n",
        "    \n",
        "if k != '' :    \n",
        "    plt.plot(history.history[k])\n",
        "    plt.plot(history.history['val_'+k])\n",
        "    plt.title('Model Accuracy')\n",
        "    plt.ylabel('Accuracy')\n",
        "    plt.xlabel('Epoch')\n",
        "    plt.legend(['train', 'test'], loc='upper left')\n",
        "    plt.show()"
      ],
      "execution_count": 30,
      "outputs": [
        {
          "output_type": "display_data",
          "data": {
            "text/plain": [
              "<Figure size 432x288 with 1 Axes>"
            ],
            "image/png": "[encoded data removed]"
          },
          "metadata": {
            "needs_background": "light"
          }
        }
      ]
    },
    {
      "cell_type": "code",
      "metadata": {
        "colab": {
          "base_uri": "https://localhost:8080/",
          "height": 295
        },
        "id": "7gY_XvPSvAr7",
        "outputId": "cd6aad62-eeaf-4fdf-f340-e4d06271fb9a"
      },
      "source": [
        "plt.plot(history.history['loss'])\n",
        "plt.plot(history.history['val_loss'])\n",
        "plt.title('Model loss')\n",
        "plt.ylabel('Loss')\n",
        "plt.xlabel('Epoch')\n",
        "plt.legend(['train', 'test'], loc='upper left')\n",
        "plt.show()\n",
        "\n"
      ],
      "execution_count": 31,
      "outputs": [
        {
          "output_type": "display_data",
          "data": {
            "text/plain": [
              "<Figure size 432x288 with 1 Axes>"
            ],
            "image/png": "[encoded data removed]"
          },
          "metadata": {
            "needs_background": "light"
          }
        }
      ]
    },
    {
      "cell_type": "markdown",
      "metadata": {
        "id": "srWZL0PHJVgf"
      },
      "source": [
        "# References\n",
        "[1] https://machinelearningmastery.com/how-to-use-transfer-learning-when-developing-convolutional-neural-network-models/<br>\n",
        "[2] https://keras.io/api/applications/vgg/ <br>\n",
        "[3] https://towardsdatascience.com/learning-curve-to-identify-overfitting-underfitting-problems-133177f38df5<br>\n",
        "[4] https://machinelearningmastery.com/how-to-configure-image-data-augmentation-when-training-deep-learning-neural-networks/<br>"
      ]
    },
    {
      "cell_type": "code",
      "metadata": {
        "id": "tt2mNfCvecMI"
      },
      "source": [
        ""
      ],
      "execution_count": 31,
      "outputs": []
    },
    {
      "cell_type": "code",
      "metadata": {
        "id": "AZWZ1vKUJWvB"
      },
      "source": [
        ""
      ],
      "execution_count": 31,
      "outputs": []
    }
  ]
}