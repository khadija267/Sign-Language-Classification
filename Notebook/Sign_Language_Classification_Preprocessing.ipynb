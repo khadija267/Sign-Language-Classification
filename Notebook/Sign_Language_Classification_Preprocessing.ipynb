{
  "cells": [
    {
      "cell_type": "markdown",
      "metadata": {
        "id": "view-in-github",
        "colab_type": "text"
      },
      "source": [
        "<a href=\"https://colab.research.google.com/github/khadija267/Sign-Language-Classification/blob/main/Sign_Language_Classification_Preprocessing.ipynb\" target=\"_parent\"><img src=\"https://colab.research.google.com/assets/colab-badge.svg\" alt=\"Open In Colab\"/></a>"
      ]
    },
    {
      "cell_type": "markdown",
      "id": "4f8be9ca",
      "metadata": {
        "id": "4f8be9ca"
      },
      "source": [
        "# Data Preprocessing Pipeline"
      ]
    },
    {
      "cell_type": "markdown",
      "id": "233192f9",
      "metadata": {
        "id": "233192f9"
      },
      "source": [
        "![alt text](img.png \"Title\")"
      ]
    },
    {
      "cell_type": "markdown",
      "id": "4afc0035",
      "metadata": {
        "id": "4afc0035"
      },
      "source": [
        "# Implementation"
      ]
    },
    {
      "cell_type": "markdown",
      "id": "19e6d9e2",
      "metadata": {
        "id": "19e6d9e2"
      },
      "source": [
        "Resize The images"
      ]
    },
    {
      "cell_type": "code",
      "execution_count": null,
      "id": "a4270f77",
      "metadata": {
        "id": "a4270f77"
      },
      "outputs": [],
      "source": [
        "import PIL\n",
        "import os\n",
        "from PIL import Image\n",
        "import os\n",
        "import skimage.io as skio\n",
        "from skimage.transform import resize\n",
        "import numpy as np\n",
        "import pandas as pd\n",
        "\n",
        "location = r'/media/khadija/3E2CC5A32CC55715/uOttawa/7168/Project/Dataset/'\n",
        "\n",
        "classes=['Call me','Dislike','Goodjob','Good luck','I love you','OK','Peace','Power','Talk to the hand','You']\n",
        "\n",
        "folders=['Train','Test','Validation']\n",
        "\n",
        "\n",
        "\n",
        "X_train=[]\n",
        "X_test=[]\n",
        "X_valid=[]\n",
        "y_train=[]\n",
        "y_test=[]\n",
        "y_valid=[]\n",
        "\n",
        "for ind,it in enumerate(classes):\n",
        "    for ind_1 , it_1 in enumerate(folders):\n",
        "        \n",
        "\n",
        "        for file in os.listdir(location+\"/\"+it+\"/\"+it_1):\n",
        "            if it_1=='Train':\n",
        "\n",
        "                f_img = location+\"/\"+it+\"/\"+it_1+\"/\"+file\n",
        "                img = skio.imread(f_img)\n",
        "                img = resize(img,(32,32))\n",
        "                img=img/255\n",
        "                X_train.append(img)\n",
        "                y_train.append(classes[ind])\n",
        "\n",
        "            elif it_1=='Test':\n",
        "                f_img =location+\"/\"+it+\"/\"+it_1+\"/\"+file\n",
        "                img = skio.imread(f_img)\n",
        "                img = resize(img,(32,32))\n",
        "                img=img/255\n",
        "                X_test.append(img)\n",
        "                y_test.append(classes[ind])\n",
        "\n",
        "            elif it_1=='Validation':\n",
        "                f_img = location+\"/\"+it+\"/\"+it_1+\"/\"+file\n",
        "                img = skio.imread(f_img)\n",
        "                img = resize(img,(32,32))\n",
        "                img=img/255\n",
        "                X_valid.append(img)\n",
        "                y_valid.append(classes[ind])\n",
        "\n",
        "            else:\n",
        "                print(\"The destination file does not exist!\")\n"
      ]
    },
    {
      "cell_type": "code",
      "execution_count": null,
      "id": "ce748271",
      "metadata": {
        "id": "ce748271",
        "outputId": "2e0b033d-5c5e-49b2-b20a-7b8d9664bcda"
      },
      "outputs": [
        {
          "name": "stdout",
          "output_type": "stream",
          "text": [
            "327 100 100\n"
          ]
        }
      ],
      "source": [
        "print(len(X_train),len(X_test),len(X_valid))"
      ]
    },
    {
      "cell_type": "code",
      "execution_count": null,
      "id": "c471677e",
      "metadata": {
        "id": "c471677e",
        "outputId": "12a9b714-3b8d-44a6-c1fd-80f8daf47cce"
      },
      "outputs": [
        {
          "name": "stdout",
          "output_type": "stream",
          "text": [
            "327 100 100\n"
          ]
        }
      ],
      "source": [
        "print(len(y_train),len(y_test),len(y_valid))"
      ]
    },
    {
      "cell_type": "code",
      "execution_count": null,
      "id": "b2b4ab31",
      "metadata": {
        "id": "b2b4ab31"
      },
      "outputs": [],
      "source": [
        ""
      ]
    }
  ],
  "metadata": {
    "kernelspec": {
      "display_name": "Python 3",
      "language": "python",
      "name": "python3"
    },
    "language_info": {
      "codemirror_mode": {
        "name": "ipython",
        "version": 3
      },
      "file_extension": ".py",
      "mimetype": "text/x-python",
      "name": "python",
      "nbconvert_exporter": "python",
      "pygments_lexer": "ipython3",
      "version": "3.8.10"
    },
    "colab": {
      "name": "Sign Language Classification Preprocessing.ipynb",
      "provenance": [],
      "include_colab_link": true
    }
  },
  "nbformat": 4,
  "nbformat_minor": 5
}